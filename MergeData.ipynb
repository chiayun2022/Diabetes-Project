{
 "cells": [
  {
   "cell_type": "markdown",
   "metadata": {},
   "source": [
    "# Merge the Dataset"
   ]
  },
  {
   "cell_type": "markdown",
   "metadata": {},
   "source": [
    "## Read the Adult, Exam, Lab Dataset"
   ]
  },
  {
   "cell_type": "code",
   "execution_count": 9,
   "metadata": {},
   "outputs": [
    {
     "data": {
      "text/html": [
       "<div>\n",
       "<style scoped>\n",
       "    .dataframe tbody tr th:only-of-type {\n",
       "        vertical-align: middle;\n",
       "    }\n",
       "\n",
       "    .dataframe tbody tr th {\n",
       "        vertical-align: top;\n",
       "    }\n",
       "\n",
       "    .dataframe thead th {\n",
       "        text-align: right;\n",
       "    }\n",
       "</style>\n",
       "<table border=\"1\" class=\"dataframe\">\n",
       "  <thead>\n",
       "    <tr style=\"text-align: right;\">\n",
       "      <th></th>\n",
       "      <th>SEQN</th>\n",
       "      <th>DMARETHN</th>\n",
       "      <th>HSSEX</th>\n",
       "      <th>HSAGEIR</th>\n",
       "      <th>HFA8R</th>\n",
       "      <th>HFF18</th>\n",
       "      <th>HAC5A3</th>\n",
       "      <th>HAC5A4</th>\n",
       "      <th>HAD1</th>\n",
       "      <th>HAD5R</th>\n",
       "      <th>...</th>\n",
       "      <th>HAT21CD</th>\n",
       "      <th>HAT21MET</th>\n",
       "      <th>HAT22S</th>\n",
       "      <th>HAT23CD</th>\n",
       "      <th>HAT23MET</th>\n",
       "      <th>HAT24S</th>\n",
       "      <th>HAT25CD</th>\n",
       "      <th>HAT25MET</th>\n",
       "      <th>HAT26S</th>\n",
       "      <th>WTPFEX6</th>\n",
       "    </tr>\n",
       "  </thead>\n",
       "  <tbody>\n",
       "    <tr>\n",
       "      <th>0</th>\n",
       "      <td>3</td>\n",
       "      <td>3</td>\n",
       "      <td>1</td>\n",
       "      <td>21</td>\n",
       "      <td>12</td>\n",
       "      <td>1</td>\n",
       "      <td>2.0</td>\n",
       "      <td>2.0</td>\n",
       "      <td>2</td>\n",
       "      <td>NaN</td>\n",
       "      <td>...</td>\n",
       "      <td>NaN</td>\n",
       "      <td>NaN</td>\n",
       "      <td>NaN</td>\n",
       "      <td>NaN</td>\n",
       "      <td>NaN</td>\n",
       "      <td>NaN</td>\n",
       "      <td>NaN</td>\n",
       "      <td>NaN</td>\n",
       "      <td>NaN</td>\n",
       "      <td>1737.58</td>\n",
       "    </tr>\n",
       "    <tr>\n",
       "      <th>1</th>\n",
       "      <td>4</td>\n",
       "      <td>3</td>\n",
       "      <td>2</td>\n",
       "      <td>32</td>\n",
       "      <td>16</td>\n",
       "      <td>2</td>\n",
       "      <td>2.0</td>\n",
       "      <td>2.0</td>\n",
       "      <td>2</td>\n",
       "      <td>NaN</td>\n",
       "      <td>...</td>\n",
       "      <td>NaN</td>\n",
       "      <td>NaN</td>\n",
       "      <td>NaN</td>\n",
       "      <td>NaN</td>\n",
       "      <td>NaN</td>\n",
       "      <td>NaN</td>\n",
       "      <td>NaN</td>\n",
       "      <td>NaN</td>\n",
       "      <td>NaN</td>\n",
       "      <td>1730.23</td>\n",
       "    </tr>\n",
       "    <tr>\n",
       "      <th>2</th>\n",
       "      <td>9</td>\n",
       "      <td>1</td>\n",
       "      <td>2</td>\n",
       "      <td>48</td>\n",
       "      <td>16</td>\n",
       "      <td>2</td>\n",
       "      <td>1.0</td>\n",
       "      <td>2.0</td>\n",
       "      <td>2</td>\n",
       "      <td>NaN</td>\n",
       "      <td>...</td>\n",
       "      <td>NaN</td>\n",
       "      <td>NaN</td>\n",
       "      <td>NaN</td>\n",
       "      <td>NaN</td>\n",
       "      <td>NaN</td>\n",
       "      <td>NaN</td>\n",
       "      <td>NaN</td>\n",
       "      <td>NaN</td>\n",
       "      <td>NaN</td>\n",
       "      <td>19521.36</td>\n",
       "    </tr>\n",
       "    <tr>\n",
       "      <th>3</th>\n",
       "      <td>10</td>\n",
       "      <td>1</td>\n",
       "      <td>1</td>\n",
       "      <td>35</td>\n",
       "      <td>17</td>\n",
       "      <td>2</td>\n",
       "      <td>NaN</td>\n",
       "      <td>NaN</td>\n",
       "      <td>2</td>\n",
       "      <td>NaN</td>\n",
       "      <td>...</td>\n",
       "      <td>15430.0</td>\n",
       "      <td>10.0</td>\n",
       "      <td>9.0</td>\n",
       "      <td>NaN</td>\n",
       "      <td>NaN</td>\n",
       "      <td>NaN</td>\n",
       "      <td>NaN</td>\n",
       "      <td>NaN</td>\n",
       "      <td>NaN</td>\n",
       "      <td>28080.57</td>\n",
       "    </tr>\n",
       "    <tr>\n",
       "      <th>4</th>\n",
       "      <td>11</td>\n",
       "      <td>3</td>\n",
       "      <td>1</td>\n",
       "      <td>48</td>\n",
       "      <td>7</td>\n",
       "      <td>2</td>\n",
       "      <td>1.0</td>\n",
       "      <td>2.0</td>\n",
       "      <td>1</td>\n",
       "      <td>28.0</td>\n",
       "      <td>...</td>\n",
       "      <td>NaN</td>\n",
       "      <td>NaN</td>\n",
       "      <td>NaN</td>\n",
       "      <td>NaN</td>\n",
       "      <td>NaN</td>\n",
       "      <td>NaN</td>\n",
       "      <td>NaN</td>\n",
       "      <td>NaN</td>\n",
       "      <td>NaN</td>\n",
       "      <td>1248.43</td>\n",
       "    </tr>\n",
       "  </tbody>\n",
       "</table>\n",
       "<p>5 rows × 52 columns</p>\n",
       "</div>"
      ],
      "text/plain": [
       "   SEQN  DMARETHN  HSSEX  HSAGEIR  HFA8R  HFF18  HAC5A3  HAC5A4  HAD1  HAD5R  \\\n",
       "0     3         3      1       21     12      1     2.0     2.0     2    NaN   \n",
       "1     4         3      2       32     16      2     2.0     2.0     2    NaN   \n",
       "2     9         1      2       48     16      2     1.0     2.0     2    NaN   \n",
       "3    10         1      1       35     17      2     NaN     NaN     2    NaN   \n",
       "4    11         3      1       48      7      2     1.0     2.0     1   28.0   \n",
       "\n",
       "   ...  HAT21CD  HAT21MET  HAT22S  HAT23CD  HAT23MET  HAT24S  HAT25CD  \\\n",
       "0  ...      NaN       NaN     NaN      NaN       NaN     NaN      NaN   \n",
       "1  ...      NaN       NaN     NaN      NaN       NaN     NaN      NaN   \n",
       "2  ...      NaN       NaN     NaN      NaN       NaN     NaN      NaN   \n",
       "3  ...  15430.0      10.0     9.0      NaN       NaN     NaN      NaN   \n",
       "4  ...      NaN       NaN     NaN      NaN       NaN     NaN      NaN   \n",
       "\n",
       "   HAT25MET  HAT26S   WTPFEX6  \n",
       "0       NaN     NaN   1737.58  \n",
       "1       NaN     NaN   1730.23  \n",
       "2       NaN     NaN  19521.36  \n",
       "3       NaN     NaN  28080.57  \n",
       "4       NaN     NaN   1248.43  \n",
       "\n",
       "[5 rows x 52 columns]"
      ]
     },
     "execution_count": 9,
     "metadata": {},
     "output_type": "execute_result"
    }
   ],
   "source": [
    "import pandas as pd\n",
    "import numpy as np\n",
    "\n",
    "adult = pd.read_csv(\"adult.csv\")\n",
    "adult.head()"
   ]
  },
  {
   "cell_type": "code",
   "execution_count": 10,
   "metadata": {},
   "outputs": [
    {
     "data": {
      "text/plain": [
       "(20050, 52)"
      ]
     },
     "execution_count": 10,
     "metadata": {},
     "output_type": "execute_result"
    }
   ],
   "source": [
    "adult.shape"
   ]
  },
  {
   "cell_type": "code",
   "execution_count": 11,
   "metadata": {},
   "outputs": [
    {
     "data": {
      "text/html": [
       "<div>\n",
       "<style scoped>\n",
       "    .dataframe tbody tr th:only-of-type {\n",
       "        vertical-align: middle;\n",
       "    }\n",
       "\n",
       "    .dataframe tbody tr th {\n",
       "        vertical-align: top;\n",
       "    }\n",
       "\n",
       "    .dataframe thead th {\n",
       "        text-align: right;\n",
       "    }\n",
       "</style>\n",
       "<table border=\"1\" class=\"dataframe\">\n",
       "  <thead>\n",
       "    <tr style=\"text-align: right;\">\n",
       "      <th></th>\n",
       "      <th>SEQN</th>\n",
       "      <th>BMPWT</th>\n",
       "      <th>BMPBMI</th>\n",
       "      <th>BMPHT</th>\n",
       "      <th>BMPSITHT</th>\n",
       "      <th>PEPPREG</th>\n",
       "      <th>PEPPACE</th>\n",
       "      <th>PEP12A1</th>\n",
       "      <th>MAPF12</th>\n",
       "      <th>MAPF12R</th>\n",
       "      <th>HXPH2</th>\n",
       "      <th>HSSEX3</th>\n",
       "      <th>HSAGEIR3</th>\n",
       "    </tr>\n",
       "  </thead>\n",
       "  <tbody>\n",
       "    <tr>\n",
       "      <th>0</th>\n",
       "      <td>3</td>\n",
       "      <td>81.60</td>\n",
       "      <td>25.5</td>\n",
       "      <td>178.8</td>\n",
       "      <td>93.1</td>\n",
       "      <td>2.0</td>\n",
       "      <td>2.0</td>\n",
       "      <td>468.0</td>\n",
       "      <td>NaN</td>\n",
       "      <td>NaN</td>\n",
       "      <td>NaN</td>\n",
       "      <td>1</td>\n",
       "      <td>21</td>\n",
       "    </tr>\n",
       "    <tr>\n",
       "      <th>1</th>\n",
       "      <td>4</td>\n",
       "      <td>61.65</td>\n",
       "      <td>23.4</td>\n",
       "      <td>162.2</td>\n",
       "      <td>86.1</td>\n",
       "      <td>2.0</td>\n",
       "      <td>2.0</td>\n",
       "      <td>751.0</td>\n",
       "      <td>NaN</td>\n",
       "      <td>2.0</td>\n",
       "      <td>NaN</td>\n",
       "      <td>2</td>\n",
       "      <td>32</td>\n",
       "    </tr>\n",
       "    <tr>\n",
       "      <th>2</th>\n",
       "      <td>7</td>\n",
       "      <td>13.05</td>\n",
       "      <td>13.8</td>\n",
       "      <td>97.3</td>\n",
       "      <td>51.3</td>\n",
       "      <td>NaN</td>\n",
       "      <td>NaN</td>\n",
       "      <td>NaN</td>\n",
       "      <td>NaN</td>\n",
       "      <td>NaN</td>\n",
       "      <td>NaN</td>\n",
       "      <td>2</td>\n",
       "      <td>3</td>\n",
       "    </tr>\n",
       "    <tr>\n",
       "      <th>3</th>\n",
       "      <td>9</td>\n",
       "      <td>68.05</td>\n",
       "      <td>27.6</td>\n",
       "      <td>156.9</td>\n",
       "      <td>84.9</td>\n",
       "      <td>2.0</td>\n",
       "      <td>2.0</td>\n",
       "      <td>513.0</td>\n",
       "      <td>2.0</td>\n",
       "      <td>2.0</td>\n",
       "      <td>NaN</td>\n",
       "      <td>2</td>\n",
       "      <td>48</td>\n",
       "    </tr>\n",
       "    <tr>\n",
       "      <th>4</th>\n",
       "      <td>10</td>\n",
       "      <td>92.50</td>\n",
       "      <td>29.4</td>\n",
       "      <td>177.4</td>\n",
       "      <td>93.7</td>\n",
       "      <td>2.0</td>\n",
       "      <td>2.0</td>\n",
       "      <td>455.0</td>\n",
       "      <td>NaN</td>\n",
       "      <td>NaN</td>\n",
       "      <td>NaN</td>\n",
       "      <td>1</td>\n",
       "      <td>35</td>\n",
       "    </tr>\n",
       "  </tbody>\n",
       "</table>\n",
       "</div>"
      ],
      "text/plain": [
       "   SEQN  BMPWT  BMPBMI  BMPHT  BMPSITHT  PEPPREG  PEPPACE  PEP12A1  MAPF12  \\\n",
       "0     3  81.60    25.5  178.8      93.1      2.0      2.0    468.0     NaN   \n",
       "1     4  61.65    23.4  162.2      86.1      2.0      2.0    751.0     NaN   \n",
       "2     7  13.05    13.8   97.3      51.3      NaN      NaN      NaN     NaN   \n",
       "3     9  68.05    27.6  156.9      84.9      2.0      2.0    513.0     2.0   \n",
       "4    10  92.50    29.4  177.4      93.7      2.0      2.0    455.0     NaN   \n",
       "\n",
       "   MAPF12R  HXPH2  HSSEX3  HSAGEIR3  \n",
       "0      NaN    NaN       1        21  \n",
       "1      2.0    NaN       2        32  \n",
       "2      NaN    NaN       2         3  \n",
       "3      2.0    NaN       2        48  \n",
       "4      NaN    NaN       1        35  "
      ]
     },
     "execution_count": 11,
     "metadata": {},
     "output_type": "execute_result"
    }
   ],
   "source": [
    "exam = pd.read_csv('exam.csv')\n",
    "exam.head()"
   ]
  },
  {
   "cell_type": "code",
   "execution_count": 12,
   "metadata": {},
   "outputs": [
    {
     "data": {
      "text/plain": [
       "(31311, 13)"
      ]
     },
     "execution_count": 12,
     "metadata": {},
     "output_type": "execute_result"
    }
   ],
   "source": [
    "exam.shape"
   ]
  },
  {
   "cell_type": "code",
   "execution_count": 13,
   "metadata": {},
   "outputs": [
    {
     "data": {
      "text/html": [
       "<div>\n",
       "<style scoped>\n",
       "    .dataframe tbody tr th:only-of-type {\n",
       "        vertical-align: middle;\n",
       "    }\n",
       "\n",
       "    .dataframe tbody tr th {\n",
       "        vertical-align: top;\n",
       "    }\n",
       "\n",
       "    .dataframe thead th {\n",
       "        text-align: right;\n",
       "    }\n",
       "</style>\n",
       "<table border=\"1\" class=\"dataframe\">\n",
       "  <thead>\n",
       "    <tr style=\"text-align: right;\">\n",
       "      <th></th>\n",
       "      <th>SEQN</th>\n",
       "      <th>G1P</th>\n",
       "      <th>G1PSI</th>\n",
       "      <th>G1PCODE</th>\n",
       "      <th>G1PTIM1</th>\n",
       "      <th>G1PTIM2</th>\n",
       "      <th>G2PSI</th>\n",
       "      <th>I1P</th>\n",
       "      <th>I1PSI</th>\n",
       "      <th>HSSEX2</th>\n",
       "      <th>HSAGEIR2</th>\n",
       "    </tr>\n",
       "  </thead>\n",
       "  <tbody>\n",
       "    <tr>\n",
       "      <th>0</th>\n",
       "      <td>3</td>\n",
       "      <td>106.0</td>\n",
       "      <td>5.884</td>\n",
       "      <td>NaN</td>\n",
       "      <td>NaN</td>\n",
       "      <td>NaN</td>\n",
       "      <td>NaN</td>\n",
       "      <td>9.32</td>\n",
       "      <td>55.92</td>\n",
       "      <td>1</td>\n",
       "      <td>21</td>\n",
       "    </tr>\n",
       "    <tr>\n",
       "      <th>1</th>\n",
       "      <td>4</td>\n",
       "      <td>88.9</td>\n",
       "      <td>4.935</td>\n",
       "      <td>NaN</td>\n",
       "      <td>NaN</td>\n",
       "      <td>NaN</td>\n",
       "      <td>NaN</td>\n",
       "      <td>5.97</td>\n",
       "      <td>35.82</td>\n",
       "      <td>2</td>\n",
       "      <td>32</td>\n",
       "    </tr>\n",
       "    <tr>\n",
       "      <th>2</th>\n",
       "      <td>7</td>\n",
       "      <td>NaN</td>\n",
       "      <td>NaN</td>\n",
       "      <td>NaN</td>\n",
       "      <td>NaN</td>\n",
       "      <td>NaN</td>\n",
       "      <td>NaN</td>\n",
       "      <td>NaN</td>\n",
       "      <td>NaN</td>\n",
       "      <td>2</td>\n",
       "      <td>3</td>\n",
       "    </tr>\n",
       "    <tr>\n",
       "      <th>3</th>\n",
       "      <td>9</td>\n",
       "      <td>111.3</td>\n",
       "      <td>6.178</td>\n",
       "      <td>NaN</td>\n",
       "      <td>116.0</td>\n",
       "      <td>122.0</td>\n",
       "      <td>7.882</td>\n",
       "      <td>10.80</td>\n",
       "      <td>64.80</td>\n",
       "      <td>2</td>\n",
       "      <td>48</td>\n",
       "    </tr>\n",
       "    <tr>\n",
       "      <th>4</th>\n",
       "      <td>10</td>\n",
       "      <td>85.5</td>\n",
       "      <td>4.746</td>\n",
       "      <td>NaN</td>\n",
       "      <td>NaN</td>\n",
       "      <td>NaN</td>\n",
       "      <td>NaN</td>\n",
       "      <td>5.77</td>\n",
       "      <td>34.62</td>\n",
       "      <td>1</td>\n",
       "      <td>35</td>\n",
       "    </tr>\n",
       "  </tbody>\n",
       "</table>\n",
       "</div>"
      ],
      "text/plain": [
       "   SEQN    G1P  G1PSI  G1PCODE  G1PTIM1  G1PTIM2  G2PSI    I1P  I1PSI  HSSEX2  \\\n",
       "0     3  106.0  5.884      NaN      NaN      NaN    NaN   9.32  55.92       1   \n",
       "1     4   88.9  4.935      NaN      NaN      NaN    NaN   5.97  35.82       2   \n",
       "2     7    NaN    NaN      NaN      NaN      NaN    NaN    NaN    NaN       2   \n",
       "3     9  111.3  6.178      NaN    116.0    122.0  7.882  10.80  64.80       2   \n",
       "4    10   85.5  4.746      NaN      NaN      NaN    NaN   5.77  34.62       1   \n",
       "\n",
       "   HSAGEIR2  \n",
       "0        21  \n",
       "1        32  \n",
       "2         3  \n",
       "3        48  \n",
       "4        35  "
      ]
     },
     "execution_count": 13,
     "metadata": {},
     "output_type": "execute_result"
    }
   ],
   "source": [
    "lab = pd.read_csv('lab.csv')\n",
    "lab.head()"
   ]
  },
  {
   "cell_type": "code",
   "execution_count": 14,
   "metadata": {},
   "outputs": [
    {
     "data": {
      "text/plain": [
       "(29314, 11)"
      ]
     },
     "execution_count": 14,
     "metadata": {},
     "output_type": "execute_result"
    }
   ],
   "source": [
    "lab.shape"
   ]
  },
  {
   "cell_type": "markdown",
   "metadata": {},
   "source": [
    "## Merge the three dataset by 'SEQN' (sequence number)"
   ]
  },
  {
   "cell_type": "code",
   "execution_count": 15,
   "metadata": {},
   "outputs": [
    {
     "data": {
      "text/plain": [
       "(18162, 64)"
      ]
     },
     "execution_count": 15,
     "metadata": {},
     "output_type": "execute_result"
    }
   ],
   "source": [
    "# merge the adult and exam dataframes\n",
    "adult_exam = pd.merge(adult, exam, on='SEQN')\n",
    "adult_exam.shape"
   ]
  },
  {
   "cell_type": "code",
   "execution_count": 16,
   "metadata": {},
   "outputs": [
    {
     "data": {
      "text/plain": [
       "(18162, 74)"
      ]
     },
     "execution_count": 16,
     "metadata": {},
     "output_type": "execute_result"
    }
   ],
   "source": [
    "# merge the adult_exam and lab dataframes\n",
    "adult_exam_lab = pd.merge(adult_exam, lab, on='SEQN')\n",
    "adult_exam_lab.shape"
   ]
  },
  {
   "cell_type": "markdown",
   "metadata": {},
   "source": [
    "# Filter the dataset we want, Age: 40-74, Non-pregnant, Race, Insulin diabetes"
   ]
  },
  {
   "cell_type": "markdown",
   "metadata": {},
   "source": [
    "## Age"
   ]
  },
  {
   "cell_type": "code",
   "execution_count": 17,
   "metadata": {},
   "outputs": [
    {
     "data": {
      "text/plain": [
       "(7948, 74)"
      ]
     },
     "execution_count": 17,
     "metadata": {},
     "output_type": "execute_result"
    }
   ],
   "source": [
    "# only keep age in 40-74 range, \"HSAGEIR\" is the age in years\n",
    "adult_exam_lab = adult_exam_lab[adult_exam_lab['HSAGEIR'] <= 74]\n",
    "adult_exam_lab = adult_exam_lab[adult_exam_lab['HSAGEIR'] >= 40]\n",
    "adult_exam_lab.shape"
   ]
  },
  {
   "cell_type": "markdown",
   "metadata": {},
   "source": [
    "## Pregnant"
   ]
  },
  {
   "cell_type": "code",
   "execution_count": 18,
   "metadata": {},
   "outputs": [
    {
     "data": {
      "text/plain": [
       "MAPF12R\n",
       "2.0    2337\n",
       "8.0      17\n",
       "1.0       5\n",
       "9.0       1\n",
       "Name: count, dtype: int64"
      ]
     },
     "execution_count": 18,
     "metadata": {},
     "output_type": "execute_result"
    }
   ],
   "source": [
    "adult_exam_lab['MAPF12R'].value_counts()"
   ]
  },
  {
   "cell_type": "code",
   "execution_count": 19,
   "metadata": {},
   "outputs": [
    {
     "data": {
      "text/plain": [
       "(7943, 74)"
      ]
     },
     "execution_count": 19,
     "metadata": {},
     "output_type": "execute_result"
    }
   ],
   "source": [
    "# Pregnant women were excluded\n",
    "adult_exam_lab = adult_exam_lab[adult_exam_lab['MAPF12R'] != 1]\n",
    "adult_exam_lab.shape\n"
   ]
  },
  {
   "cell_type": "markdown",
   "metadata": {},
   "source": [
    "## Race"
   ]
  },
  {
   "cell_type": "code",
   "execution_count": 20,
   "metadata": {},
   "outputs": [
    {
     "data": {
      "text/plain": [
       "DMARETHN\n",
       "1    3512\n",
       "2    2135\n",
       "3    1970\n",
       "4     326\n",
       "Name: count, dtype: int64"
      ]
     },
     "execution_count": 20,
     "metadata": {},
     "output_type": "execute_result"
    }
   ],
   "source": [
    "adult_exam_lab[\"DMARETHN\"].value_counts()"
   ]
  },
  {
   "cell_type": "code",
   "execution_count": 21,
   "metadata": {},
   "outputs": [
    {
     "data": {
      "text/plain": [
       "(7617, 74)"
      ]
     },
     "execution_count": 21,
     "metadata": {},
     "output_type": "execute_result"
    }
   ],
   "source": [
    "# exclude non-Hispanic whites, non-Hispanic blacks, and Mexican Americans, \"DMARETHN\" is the race/ethnicity\n",
    "# 1: Non-Hispanic white, 2: non-Hispanic blacks, 3: Mexican Americans, and 4: other\n",
    "# drop the rows which  \"DMARETHN\" is 4\n",
    "adult_exam_lab = adult_exam_lab[adult_exam_lab[\"DMARETHN\"] != 4]\n",
    "adult_exam_lab.shape"
   ]
  },
  {
   "cell_type": "markdown",
   "metadata": {},
   "source": [
    "## Diabetes"
   ]
  },
  {
   "cell_type": "code",
   "execution_count": 22,
   "metadata": {},
   "outputs": [
    {
     "data": {
      "text/plain": [
       "151"
      ]
     },
     "execution_count": 22,
     "metadata": {},
     "output_type": "execute_result"
    }
   ],
   "source": [
    "len(adult_exam_lab[adult_exam_lab[\"HAD5R\"]<40])"
   ]
  },
  {
   "cell_type": "code",
   "execution_count": 23,
   "metadata": {},
   "outputs": [
    {
     "data": {
      "text/plain": [
       "(7424, 74)"
      ]
     },
     "execution_count": 23,
     "metadata": {},
     "output_type": "execute_result"
    }
   ],
   "source": [
    "# exclude 55 subjects with insulin-treated diabetes diagnosed before age 40 because they presumably had type 1 diabetes\n",
    "# \"HAD5R\": How old were you when a doctor first told you that you had diabetes (not including during pregnancy)? (years)\n",
    "# drop the rows which \"HAD5R\" is less than 40 and keep the null value\n",
    "adult_exam_lab = adult_exam_lab[(adult_exam_lab[\"HAD5R\"] > 40) | (adult_exam_lab[\"HAD5R\"].isnull()) ]\n",
    "adult_exam_lab.shape"
   ]
  },
  {
   "cell_type": "code",
   "execution_count": 24,
   "metadata": {},
   "outputs": [
    {
     "data": {
      "text/plain": [
       "HSSEX\n",
       "2    3819\n",
       "1    3605\n",
       "Name: count, dtype: int64"
      ]
     },
     "execution_count": 24,
     "metadata": {},
     "output_type": "execute_result"
    }
   ],
   "source": [
    "# check for sex\n",
    "# this would be deleted\n",
    "adult_exam_lab['HSSEX'].value_counts()"
   ]
  },
  {
   "cell_type": "markdown",
   "metadata": {},
   "source": [
    "# Output as csv file"
   ]
  },
  {
   "cell_type": "code",
   "execution_count": 25,
   "metadata": {},
   "outputs": [],
   "source": [
    "adult_exam_lab.to_csv(\"adult_exam_lab.csv\", index=False)"
   ]
  }
 ],
 "metadata": {
  "kernelspec": {
   "display_name": "Python 3",
   "language": "python",
   "name": "python3"
  },
  "language_info": {
   "codemirror_mode": {
    "name": "ipython",
    "version": 3
   },
   "file_extension": ".py",
   "mimetype": "text/x-python",
   "name": "python",
   "nbconvert_exporter": "python",
   "pygments_lexer": "ipython3",
   "version": "3.11.5"
  }
 },
 "nbformat": 4,
 "nbformat_minor": 2
}
