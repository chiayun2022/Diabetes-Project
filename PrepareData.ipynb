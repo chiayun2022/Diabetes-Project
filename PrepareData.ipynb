{
 "cells": [
  {
   "cell_type": "markdown",
   "metadata": {},
   "source": [
    "# Data Preparation"
   ]
  },
  {
   "cell_type": "code",
   "execution_count": 48,
   "metadata": {},
   "outputs": [],
   "source": [
    "import pandas as pd\n",
    "import numpy as np"
   ]
  },
  {
   "cell_type": "code",
   "execution_count": 49,
   "metadata": {},
   "outputs": [
    {
     "data": {
      "text/html": [
       "<div>\n",
       "<style scoped>\n",
       "    .dataframe tbody tr th:only-of-type {\n",
       "        vertical-align: middle;\n",
       "    }\n",
       "\n",
       "    .dataframe tbody tr th {\n",
       "        vertical-align: top;\n",
       "    }\n",
       "\n",
       "    .dataframe thead th {\n",
       "        text-align: right;\n",
       "    }\n",
       "</style>\n",
       "<table border=\"1\" class=\"dataframe\">\n",
       "  <thead>\n",
       "    <tr style=\"text-align: right;\">\n",
       "      <th></th>\n",
       "      <th>SEQN</th>\n",
       "      <th>DMARETHN</th>\n",
       "      <th>HSSEX</th>\n",
       "      <th>HSAGEIR</th>\n",
       "      <th>HFA8R</th>\n",
       "      <th>HFF18</th>\n",
       "      <th>HAC5A3</th>\n",
       "      <th>HAC5A4</th>\n",
       "      <th>HAD1</th>\n",
       "      <th>HAD5R</th>\n",
       "      <th>...</th>\n",
       "      <th>G1P</th>\n",
       "      <th>G1PSI</th>\n",
       "      <th>G1PCODE</th>\n",
       "      <th>G1PTIM1</th>\n",
       "      <th>G1PTIM2</th>\n",
       "      <th>G2PSI</th>\n",
       "      <th>I1P</th>\n",
       "      <th>I1PSI</th>\n",
       "      <th>HSSEX2</th>\n",
       "      <th>HSAGEIR2</th>\n",
       "    </tr>\n",
       "  </thead>\n",
       "  <tbody>\n",
       "    <tr>\n",
       "      <th>0</th>\n",
       "      <td>9</td>\n",
       "      <td>1</td>\n",
       "      <td>2</td>\n",
       "      <td>48</td>\n",
       "      <td>16</td>\n",
       "      <td>2</td>\n",
       "      <td>1.0</td>\n",
       "      <td>2.0</td>\n",
       "      <td>2</td>\n",
       "      <td>NaN</td>\n",
       "      <td>...</td>\n",
       "      <td>111.3</td>\n",
       "      <td>6.178</td>\n",
       "      <td>NaN</td>\n",
       "      <td>116.0</td>\n",
       "      <td>122.0</td>\n",
       "      <td>7.882</td>\n",
       "      <td>10.80</td>\n",
       "      <td>64.80</td>\n",
       "      <td>2</td>\n",
       "      <td>48</td>\n",
       "    </tr>\n",
       "    <tr>\n",
       "      <th>1</th>\n",
       "      <td>19</td>\n",
       "      <td>2</td>\n",
       "      <td>1</td>\n",
       "      <td>44</td>\n",
       "      <td>13</td>\n",
       "      <td>1</td>\n",
       "      <td>NaN</td>\n",
       "      <td>NaN</td>\n",
       "      <td>2</td>\n",
       "      <td>NaN</td>\n",
       "      <td>...</td>\n",
       "      <td>108.0</td>\n",
       "      <td>5.995</td>\n",
       "      <td>NaN</td>\n",
       "      <td>129.0</td>\n",
       "      <td>142.0</td>\n",
       "      <td>2.792</td>\n",
       "      <td>17.55</td>\n",
       "      <td>105.30</td>\n",
       "      <td>1</td>\n",
       "      <td>44</td>\n",
       "    </tr>\n",
       "    <tr>\n",
       "      <th>2</th>\n",
       "      <td>34</td>\n",
       "      <td>2</td>\n",
       "      <td>2</td>\n",
       "      <td>42</td>\n",
       "      <td>12</td>\n",
       "      <td>2</td>\n",
       "      <td>NaN</td>\n",
       "      <td>NaN</td>\n",
       "      <td>2</td>\n",
       "      <td>NaN</td>\n",
       "      <td>...</td>\n",
       "      <td>98.9</td>\n",
       "      <td>5.490</td>\n",
       "      <td>NaN</td>\n",
       "      <td>117.0</td>\n",
       "      <td>129.0</td>\n",
       "      <td>4.940</td>\n",
       "      <td>9.82</td>\n",
       "      <td>58.92</td>\n",
       "      <td>2</td>\n",
       "      <td>42</td>\n",
       "    </tr>\n",
       "    <tr>\n",
       "      <th>3</th>\n",
       "      <td>45</td>\n",
       "      <td>2</td>\n",
       "      <td>2</td>\n",
       "      <td>67</td>\n",
       "      <td>16</td>\n",
       "      <td>1</td>\n",
       "      <td>NaN</td>\n",
       "      <td>NaN</td>\n",
       "      <td>2</td>\n",
       "      <td>NaN</td>\n",
       "      <td>...</td>\n",
       "      <td>NaN</td>\n",
       "      <td>NaN</td>\n",
       "      <td>NaN</td>\n",
       "      <td>NaN</td>\n",
       "      <td>NaN</td>\n",
       "      <td>NaN</td>\n",
       "      <td>NaN</td>\n",
       "      <td>NaN</td>\n",
       "      <td>2</td>\n",
       "      <td>67</td>\n",
       "    </tr>\n",
       "    <tr>\n",
       "      <th>4</th>\n",
       "      <td>48</td>\n",
       "      <td>1</td>\n",
       "      <td>2</td>\n",
       "      <td>56</td>\n",
       "      <td>12</td>\n",
       "      <td>2</td>\n",
       "      <td>2.0</td>\n",
       "      <td>2.0</td>\n",
       "      <td>2</td>\n",
       "      <td>NaN</td>\n",
       "      <td>...</td>\n",
       "      <td>84.9</td>\n",
       "      <td>4.713</td>\n",
       "      <td>99.0</td>\n",
       "      <td>888.0</td>\n",
       "      <td>888.0</td>\n",
       "      <td>888888.000</td>\n",
       "      <td>7.89</td>\n",
       "      <td>47.34</td>\n",
       "      <td>2</td>\n",
       "      <td>56</td>\n",
       "    </tr>\n",
       "  </tbody>\n",
       "</table>\n",
       "<p>5 rows × 74 columns</p>\n",
       "</div>"
      ],
      "text/plain": [
       "   SEQN  DMARETHN  HSSEX  HSAGEIR  HFA8R  HFF18  HAC5A3  HAC5A4  HAD1  HAD5R  \\\n",
       "0     9         1      2       48     16      2     1.0     2.0     2    NaN   \n",
       "1    19         2      1       44     13      1     NaN     NaN     2    NaN   \n",
       "2    34         2      2       42     12      2     NaN     NaN     2    NaN   \n",
       "3    45         2      2       67     16      1     NaN     NaN     2    NaN   \n",
       "4    48         1      2       56     12      2     2.0     2.0     2    NaN   \n",
       "\n",
       "   ...    G1P  G1PSI  G1PCODE  G1PTIM1  G1PTIM2       G2PSI    I1P   I1PSI  \\\n",
       "0  ...  111.3  6.178      NaN    116.0    122.0       7.882  10.80   64.80   \n",
       "1  ...  108.0  5.995      NaN    129.0    142.0       2.792  17.55  105.30   \n",
       "2  ...   98.9  5.490      NaN    117.0    129.0       4.940   9.82   58.92   \n",
       "3  ...    NaN    NaN      NaN      NaN      NaN         NaN    NaN     NaN   \n",
       "4  ...   84.9  4.713     99.0    888.0    888.0  888888.000   7.89   47.34   \n",
       "\n",
       "   HSSEX2  HSAGEIR2  \n",
       "0       2        48  \n",
       "1       1        44  \n",
       "2       2        42  \n",
       "3       2        67  \n",
       "4       2        56  \n",
       "\n",
       "[5 rows x 74 columns]"
      ]
     },
     "execution_count": 49,
     "metadata": {},
     "output_type": "execute_result"
    }
   ],
   "source": [
    "df = pd.read_csv('adult_exam_lab.csv')\n",
    "df.head()"
   ]
  },
  {
   "cell_type": "code",
   "execution_count": 50,
   "metadata": {},
   "outputs": [
    {
     "data": {
      "text/plain": [
       "(7424, 74)"
      ]
     },
     "execution_count": 50,
     "metadata": {},
     "output_type": "execute_result"
    }
   ],
   "source": [
    "df.shape"
   ]
  },
  {
   "cell_type": "markdown",
   "metadata": {},
   "source": [
    "## Parent Diabete History"
   ]
  },
  {
   "cell_type": "code",
   "execution_count": 51,
   "metadata": {},
   "outputs": [
    {
     "data": {
      "text/plain": [
       "HAC5A3\n",
       "2.0    2072\n",
       "1.0    1234\n",
       "8.0      37\n",
       "Name: count, dtype: int64"
      ]
     },
     "execution_count": 51,
     "metadata": {},
     "output_type": "execute_result"
    }
   ],
   "source": [
    "df[\"HAC5A3\"].value_counts()"
   ]
  },
  {
   "cell_type": "code",
   "execution_count": 52,
   "metadata": {},
   "outputs": [
    {
     "data": {
      "text/plain": [
       "HAC5A4\n",
       "2.0    2645\n",
       "1.0     661\n",
       "8.0      37\n",
       "Name: count, dtype: int64"
      ]
     },
     "execution_count": 52,
     "metadata": {},
     "output_type": "execute_result"
    }
   ],
   "source": [
    "df[\"HAC5A4\"].value_counts()"
   ]
  },
  {
   "cell_type": "code",
   "execution_count": 4,
   "metadata": {},
   "outputs": [
    {
     "data": {
      "text/plain": [
       "parental_diabetes\n",
       "0    5676\n",
       "1    1748\n",
       "Name: count, dtype: int64"
      ]
     },
     "execution_count": 4,
     "metadata": {},
     "output_type": "execute_result"
    }
   ],
   "source": [
    "#  classified as having parental history of diabetes if either their biological father or mother had diabetes\n",
    "# \"HAC5A3\": Did mother have diabetes\n",
    "# \"HAC5A4\": Did father have diabetes\n",
    "# \"parental_diabetes\": 1 if either parent had diabetes, 0 otherwise\n",
    "df['parental_diabetes'] = np.where((df['HAC5A3'] == 1) | (df['HAC5A4'] == 1), 1, 0)\n",
    "df['parental_diabetes'].value_counts()"
   ]
  },
  {
   "cell_type": "markdown",
   "metadata": {},
   "source": [
    "## Education level"
   ]
  },
  {
   "cell_type": "code",
   "execution_count": 53,
   "metadata": {},
   "outputs": [
    {
     "data": {
      "text/plain": [
       "HFA8R\n",
       "12    2161\n",
       "16     509\n",
       "17     475\n",
       "14     474\n",
       "8      471\n",
       "10     445\n",
       "11     405\n",
       "9      381\n",
       "13     353\n",
       "6      309\n",
       "0      276\n",
       "7      225\n",
       "3      178\n",
       "5      177\n",
       "4      172\n",
       "15     155\n",
       "2      140\n",
       "1       75\n",
       "99      25\n",
       "88      18\n",
       "Name: count, dtype: int64"
      ]
     },
     "execution_count": 53,
     "metadata": {},
     "output_type": "execute_result"
    }
   ],
   "source": [
    "df[\"HFA8R\"].value_counts()"
   ]
  },
  {
   "cell_type": "code",
   "execution_count": 5,
   "metadata": {},
   "outputs": [
    {
     "data": {
      "text/plain": [
       "education\n",
       "0    5415\n",
       "1    2009\n",
       "Name: count, dtype: int64"
      ]
     },
     "execution_count": 5,
     "metadata": {},
     "output_type": "execute_result"
    }
   ],
   "source": [
    "# Education level was dichotomized at 12 years\n",
    "# \"HFA8R\": Education level\n",
    "# 00: Never attended or kindergarten only\n",
    "# 01- 17: Highest grade or year of regular school completed\n",
    "# 88: Blank but applicable\n",
    "# 99: Don't know\n",
    "# \"education\": 1 if education level is greater than 12, 0 otherwise\n",
    "df['education'] = np.where(df['HFA8R'] > 12, 1, 0)\n",
    "df['education'].value_counts()"
   ]
  },
  {
   "cell_type": "markdown",
   "metadata": {},
   "source": [
    "## Income"
   ]
  },
  {
   "cell_type": "code",
   "execution_count": 54,
   "metadata": {},
   "outputs": [
    {
     "data": {
      "text/plain": [
       "HFF18\n",
       "2    4009\n",
       "1    3267\n",
       "8      91\n",
       "9      47\n",
       "0      10\n",
       "Name: count, dtype: int64"
      ]
     },
     "execution_count": 54,
     "metadata": {},
     "output_type": "execute_result"
    }
   ],
   "source": [
    "df['HFF18'].value_counts()"
   ]
  },
  {
   "cell_type": "code",
   "execution_count": 55,
   "metadata": {},
   "outputs": [
    {
     "data": {
      "text/plain": [
       "income\n",
       "1    4009\n",
       "0    3415\n",
       "Name: count, dtype: int64"
      ]
     },
     "execution_count": 55,
     "metadata": {},
     "output_type": "execute_result"
    }
   ],
   "source": [
    "# \"HFF18\": annual household income\n",
    "# 0: no income; 1: Less than $20,000 ; 2: $20,000 or more ; 8: Blank but applicable ; 9: Don't know\n",
    "df['income'] = np.where(df['HFF18'] == 2, 1, 0)\n",
    "df['income'].value_counts()"
   ]
  },
  {
   "cell_type": "markdown",
   "metadata": {},
   "source": [
    "## Smokers"
   ]
  },
  {
   "cell_type": "code",
   "execution_count": 56,
   "metadata": {},
   "outputs": [
    {
     "data": {
      "text/plain": [
       "HAR1\n",
       "1    4352\n",
       "2    3072\n",
       "Name: count, dtype: int64"
      ]
     },
     "execution_count": 56,
     "metadata": {},
     "output_type": "execute_result"
    }
   ],
   "source": [
    "df['HAR1'].value_counts()"
   ]
  },
  {
   "cell_type": "markdown",
   "metadata": {},
   "source": [
    "## Activity level\n",
    "A: vigorously active; B: moderately active; C: lightly active; D: sedentary"
   ]
  },
  {
   "cell_type": "code",
   "execution_count": 6,
   "metadata": {},
   "outputs": [
    {
     "data": {
      "text/html": [
       "<div>\n",
       "<style scoped>\n",
       "    .dataframe tbody tr th:only-of-type {\n",
       "        vertical-align: middle;\n",
       "    }\n",
       "\n",
       "    .dataframe tbody tr th {\n",
       "        vertical-align: top;\n",
       "    }\n",
       "\n",
       "    .dataframe thead th {\n",
       "        text-align: right;\n",
       "    }\n",
       "</style>\n",
       "<table border=\"1\" class=\"dataframe\">\n",
       "  <thead>\n",
       "    <tr style=\"text-align: right;\">\n",
       "      <th></th>\n",
       "      <th>Vigorous_Activity_Count</th>\n",
       "      <th>Moderate_Activity_Count</th>\n",
       "      <th>Activity_Level</th>\n",
       "    </tr>\n",
       "  </thead>\n",
       "  <tbody>\n",
       "    <tr>\n",
       "      <th>0</th>\n",
       "      <td>0</td>\n",
       "      <td>2</td>\n",
       "      <td>C</td>\n",
       "    </tr>\n",
       "    <tr>\n",
       "      <th>1</th>\n",
       "      <td>0</td>\n",
       "      <td>0</td>\n",
       "      <td>D</td>\n",
       "    </tr>\n",
       "    <tr>\n",
       "      <th>2</th>\n",
       "      <td>0</td>\n",
       "      <td>0</td>\n",
       "      <td>D</td>\n",
       "    </tr>\n",
       "    <tr>\n",
       "      <th>3</th>\n",
       "      <td>0</td>\n",
       "      <td>43</td>\n",
       "      <td>B</td>\n",
       "    </tr>\n",
       "    <tr>\n",
       "      <th>4</th>\n",
       "      <td>0</td>\n",
       "      <td>18</td>\n",
       "      <td>C</td>\n",
       "    </tr>\n",
       "    <tr>\n",
       "      <th>5</th>\n",
       "      <td>0</td>\n",
       "      <td>61</td>\n",
       "      <td>B</td>\n",
       "    </tr>\n",
       "    <tr>\n",
       "      <th>6</th>\n",
       "      <td>13</td>\n",
       "      <td>17</td>\n",
       "      <td>C</td>\n",
       "    </tr>\n",
       "    <tr>\n",
       "      <th>7</th>\n",
       "      <td>0</td>\n",
       "      <td>0</td>\n",
       "      <td>D</td>\n",
       "    </tr>\n",
       "    <tr>\n",
       "      <th>8</th>\n",
       "      <td>0</td>\n",
       "      <td>30</td>\n",
       "      <td>B</td>\n",
       "    </tr>\n",
       "    <tr>\n",
       "      <th>9</th>\n",
       "      <td>0</td>\n",
       "      <td>0</td>\n",
       "      <td>D</td>\n",
       "    </tr>\n",
       "  </tbody>\n",
       "</table>\n",
       "</div>"
      ],
      "text/plain": [
       "   Vigorous_Activity_Count  Moderate_Activity_Count Activity_Level\n",
       "0                        0                        2              C\n",
       "1                        0                        0              D\n",
       "2                        0                        0              D\n",
       "3                        0                       43              B\n",
       "4                        0                       18              C\n",
       "5                        0                       61              B\n",
       "6                       13                       17              C\n",
       "7                        0                        0              D\n",
       "8                        0                       30              B\n",
       "9                        0                        0              D"
      ]
     },
     "execution_count": 6,
     "metadata": {},
     "output_type": "execute_result"
    }
   ],
   "source": [
    "# define the activity level thresholds\n",
    "vigorous_threshold = 6\n",
    "\n",
    "# Define a dictionary to pair 'S' columns with their corresponding 'MET' columns\n",
    "activity_pairs = {\n",
    "    'HAT1S': 'HAT1MET',\n",
    "    'HAT3S': 'HAT2MET',\n",
    "    'HAT5S': 'HAT4MET',\n",
    "    'HAT7S': 'HAT6MET',\n",
    "    'HAT9S': 'HAT8MET',\n",
    "    'HAT11S': 'HAT10MET',\n",
    "    'HAT13S': 'HAT12MET',\n",
    "    'HAT15S': 'HAT14MET',\n",
    "    'HAT17S': 'HAT16MET',\n",
    "    'HAT20S': 'HAT19MET',\n",
    "    'HAT22S': 'HAT21MET',\n",
    "    'HAT24S': 'HAT23MET',\n",
    "    'HAT26S': 'HAT25MET'\n",
    "}\n",
    "\n",
    "# Initialize the count columns\n",
    "df['Vigorous_Activity_Count'] = 0\n",
    "df['Moderate_Activity_Count'] = 0\n",
    "\n",
    "# Calculate the counts for vigorous and moderate activities\n",
    "for s_col, met_col in activity_pairs.items():\n",
    "    df.loc[df[met_col] >= vigorous_threshold, 'Vigorous_Activity_Count'] += df[s_col]\n",
    "    df.loc[df[met_col] < vigorous_threshold, 'Moderate_Activity_Count'] += df[s_col]\n",
    "\n",
    "# Define a function to determine the activity level category\n",
    "def get_activity_level(row):\n",
    "    if row['HSAGEIR'] >= 60 and row['Vigorous_Activity_Count'] >= 12:\n",
    "        return 'A' #'vigorously active'\n",
    "    elif row['HSAGEIR'] < 60 and row['Vigorous_Activity_Count'] >= 28:\n",
    "        return 'A' #'vigorously active'\n",
    "    elif row['Moderate_Activity_Count'] + row['Vigorous_Activity_Count'] >= 20:\n",
    "        if row['Vigorous_Activity_Count'] <= 8:\n",
    "            return 'B' #'moderately active'\n",
    "        else:\n",
    "            return 'C' #'lightly active'\n",
    "    elif row['Vigorous_Activity_Count'] > 0 or row['Moderate_Activity_Count'] > 0:\n",
    "        return 'C' #'lightly active'\n",
    "    else:\n",
    "        return 'D' #'sedentary'\n",
    "\n",
    "# Apply the function to each row\n",
    "df['Activity_Level'] = df.apply(get_activity_level, axis=1)\n",
    "\n",
    "# Output the dataframe with the new columns\n",
    "df[['Vigorous_Activity_Count', 'Moderate_Activity_Count', 'Activity_Level']].head(10)\n"
   ]
  },
  {
   "cell_type": "markdown",
   "metadata": {},
   "source": [
    "## Leg length"
   ]
  },
  {
   "cell_type": "code",
   "execution_count": 7,
   "metadata": {},
   "outputs": [
    {
     "data": {
      "text/html": [
       "<div>\n",
       "<style scoped>\n",
       "    .dataframe tbody tr th:only-of-type {\n",
       "        vertical-align: middle;\n",
       "    }\n",
       "\n",
       "    .dataframe tbody tr th {\n",
       "        vertical-align: top;\n",
       "    }\n",
       "\n",
       "    .dataframe thead th {\n",
       "        text-align: right;\n",
       "    }\n",
       "</style>\n",
       "<table border=\"1\" class=\"dataframe\">\n",
       "  <thead>\n",
       "    <tr style=\"text-align: right;\">\n",
       "      <th></th>\n",
       "      <th>SEQN</th>\n",
       "      <th>DMARETHN</th>\n",
       "      <th>HSSEX</th>\n",
       "      <th>HSAGEIR</th>\n",
       "      <th>HFA8R</th>\n",
       "      <th>HFF18</th>\n",
       "      <th>HAC5A3</th>\n",
       "      <th>HAC5A4</th>\n",
       "      <th>HAD1</th>\n",
       "      <th>HAD5R</th>\n",
       "      <th>...</th>\n",
       "      <th>I1P</th>\n",
       "      <th>I1PSI</th>\n",
       "      <th>HSSEX2</th>\n",
       "      <th>HSAGEIR2</th>\n",
       "      <th>parental_diabetes</th>\n",
       "      <th>education</th>\n",
       "      <th>Vigorous_Activity_Count</th>\n",
       "      <th>Moderate_Activity_Count</th>\n",
       "      <th>Activity_Level</th>\n",
       "      <th>leg_length</th>\n",
       "    </tr>\n",
       "  </thead>\n",
       "  <tbody>\n",
       "    <tr>\n",
       "      <th>0</th>\n",
       "      <td>9</td>\n",
       "      <td>1</td>\n",
       "      <td>2</td>\n",
       "      <td>48</td>\n",
       "      <td>16</td>\n",
       "      <td>2</td>\n",
       "      <td>1.0</td>\n",
       "      <td>2.0</td>\n",
       "      <td>2</td>\n",
       "      <td>NaN</td>\n",
       "      <td>...</td>\n",
       "      <td>10.80</td>\n",
       "      <td>64.80</td>\n",
       "      <td>2</td>\n",
       "      <td>48</td>\n",
       "      <td>1</td>\n",
       "      <td>1</td>\n",
       "      <td>0</td>\n",
       "      <td>2</td>\n",
       "      <td>C</td>\n",
       "      <td>72.0</td>\n",
       "    </tr>\n",
       "    <tr>\n",
       "      <th>1</th>\n",
       "      <td>19</td>\n",
       "      <td>2</td>\n",
       "      <td>1</td>\n",
       "      <td>44</td>\n",
       "      <td>13</td>\n",
       "      <td>1</td>\n",
       "      <td>NaN</td>\n",
       "      <td>NaN</td>\n",
       "      <td>2</td>\n",
       "      <td>NaN</td>\n",
       "      <td>...</td>\n",
       "      <td>17.55</td>\n",
       "      <td>105.30</td>\n",
       "      <td>1</td>\n",
       "      <td>44</td>\n",
       "      <td>0</td>\n",
       "      <td>1</td>\n",
       "      <td>0</td>\n",
       "      <td>0</td>\n",
       "      <td>D</td>\n",
       "      <td>84.1</td>\n",
       "    </tr>\n",
       "    <tr>\n",
       "      <th>2</th>\n",
       "      <td>34</td>\n",
       "      <td>2</td>\n",
       "      <td>2</td>\n",
       "      <td>42</td>\n",
       "      <td>12</td>\n",
       "      <td>2</td>\n",
       "      <td>NaN</td>\n",
       "      <td>NaN</td>\n",
       "      <td>2</td>\n",
       "      <td>NaN</td>\n",
       "      <td>...</td>\n",
       "      <td>9.82</td>\n",
       "      <td>58.92</td>\n",
       "      <td>2</td>\n",
       "      <td>42</td>\n",
       "      <td>0</td>\n",
       "      <td>0</td>\n",
       "      <td>0</td>\n",
       "      <td>0</td>\n",
       "      <td>D</td>\n",
       "      <td>77.1</td>\n",
       "    </tr>\n",
       "    <tr>\n",
       "      <th>3</th>\n",
       "      <td>45</td>\n",
       "      <td>2</td>\n",
       "      <td>2</td>\n",
       "      <td>67</td>\n",
       "      <td>16</td>\n",
       "      <td>1</td>\n",
       "      <td>NaN</td>\n",
       "      <td>NaN</td>\n",
       "      <td>2</td>\n",
       "      <td>NaN</td>\n",
       "      <td>...</td>\n",
       "      <td>NaN</td>\n",
       "      <td>NaN</td>\n",
       "      <td>2</td>\n",
       "      <td>67</td>\n",
       "      <td>0</td>\n",
       "      <td>1</td>\n",
       "      <td>0</td>\n",
       "      <td>43</td>\n",
       "      <td>B</td>\n",
       "      <td>NaN</td>\n",
       "    </tr>\n",
       "    <tr>\n",
       "      <th>4</th>\n",
       "      <td>48</td>\n",
       "      <td>1</td>\n",
       "      <td>2</td>\n",
       "      <td>56</td>\n",
       "      <td>12</td>\n",
       "      <td>2</td>\n",
       "      <td>2.0</td>\n",
       "      <td>2.0</td>\n",
       "      <td>2</td>\n",
       "      <td>NaN</td>\n",
       "      <td>...</td>\n",
       "      <td>7.89</td>\n",
       "      <td>47.34</td>\n",
       "      <td>2</td>\n",
       "      <td>56</td>\n",
       "      <td>0</td>\n",
       "      <td>0</td>\n",
       "      <td>0</td>\n",
       "      <td>18</td>\n",
       "      <td>C</td>\n",
       "      <td>78.8</td>\n",
       "    </tr>\n",
       "  </tbody>\n",
       "</table>\n",
       "<p>5 rows × 80 columns</p>\n",
       "</div>"
      ],
      "text/plain": [
       "   SEQN  DMARETHN  HSSEX  HSAGEIR  HFA8R  HFF18  HAC5A3  HAC5A4  HAD1  HAD5R  \\\n",
       "0     9         1      2       48     16      2     1.0     2.0     2    NaN   \n",
       "1    19         2      1       44     13      1     NaN     NaN     2    NaN   \n",
       "2    34         2      2       42     12      2     NaN     NaN     2    NaN   \n",
       "3    45         2      2       67     16      1     NaN     NaN     2    NaN   \n",
       "4    48         1      2       56     12      2     2.0     2.0     2    NaN   \n",
       "\n",
       "   ...    I1P   I1PSI  HSSEX2  HSAGEIR2  parental_diabetes  education  \\\n",
       "0  ...  10.80   64.80       2        48                  1          1   \n",
       "1  ...  17.55  105.30       1        44                  0          1   \n",
       "2  ...   9.82   58.92       2        42                  0          0   \n",
       "3  ...    NaN     NaN       2        67                  0          1   \n",
       "4  ...   7.89   47.34       2        56                  0          0   \n",
       "\n",
       "   Vigorous_Activity_Count  Moderate_Activity_Count  Activity_Level  \\\n",
       "0                        0                        2               C   \n",
       "1                        0                        0               D   \n",
       "2                        0                        0               D   \n",
       "3                        0                       43               B   \n",
       "4                        0                       18               C   \n",
       "\n",
       "   leg_length  \n",
       "0        72.0  \n",
       "1        84.1  \n",
       "2        77.1  \n",
       "3         NaN  \n",
       "4        78.8  \n",
       "\n",
       "[5 rows x 80 columns]"
      ]
     },
     "execution_count": 7,
     "metadata": {},
     "output_type": "execute_result"
    }
   ],
   "source": [
    "# leg length\n",
    "# \"BMPHT\"-\"BMPSITHT\": Standing height (cm) - Sitting height (cm)\n",
    "# \"leg_length\": Standing height - Sitting height\n",
    "df['leg_length'] = df['BMPHT'] - df['BMPSITHT']\n",
    "df.head()\n"
   ]
  },
  {
   "cell_type": "markdown",
   "metadata": {},
   "source": [
    "## Leg length-to-height ratio"
   ]
  },
  {
   "cell_type": "code",
   "execution_count": 8,
   "metadata": {},
   "outputs": [
    {
     "data": {
      "text/html": [
       "<div>\n",
       "<style scoped>\n",
       "    .dataframe tbody tr th:only-of-type {\n",
       "        vertical-align: middle;\n",
       "    }\n",
       "\n",
       "    .dataframe tbody tr th {\n",
       "        vertical-align: top;\n",
       "    }\n",
       "\n",
       "    .dataframe thead th {\n",
       "        text-align: right;\n",
       "    }\n",
       "</style>\n",
       "<table border=\"1\" class=\"dataframe\">\n",
       "  <thead>\n",
       "    <tr style=\"text-align: right;\">\n",
       "      <th></th>\n",
       "      <th>SEQN</th>\n",
       "      <th>DMARETHN</th>\n",
       "      <th>HSSEX</th>\n",
       "      <th>HSAGEIR</th>\n",
       "      <th>HFA8R</th>\n",
       "      <th>HFF18</th>\n",
       "      <th>HAC5A3</th>\n",
       "      <th>HAC5A4</th>\n",
       "      <th>HAD1</th>\n",
       "      <th>HAD5R</th>\n",
       "      <th>...</th>\n",
       "      <th>I1PSI</th>\n",
       "      <th>HSSEX2</th>\n",
       "      <th>HSAGEIR2</th>\n",
       "      <th>parental_diabetes</th>\n",
       "      <th>education</th>\n",
       "      <th>Vigorous_Activity_Count</th>\n",
       "      <th>Moderate_Activity_Count</th>\n",
       "      <th>Activity_Level</th>\n",
       "      <th>leg_length</th>\n",
       "      <th>leg_length_ratio</th>\n",
       "    </tr>\n",
       "  </thead>\n",
       "  <tbody>\n",
       "    <tr>\n",
       "      <th>0</th>\n",
       "      <td>9</td>\n",
       "      <td>1</td>\n",
       "      <td>2</td>\n",
       "      <td>48</td>\n",
       "      <td>16</td>\n",
       "      <td>2</td>\n",
       "      <td>1.0</td>\n",
       "      <td>2.0</td>\n",
       "      <td>2</td>\n",
       "      <td>NaN</td>\n",
       "      <td>...</td>\n",
       "      <td>64.80</td>\n",
       "      <td>2</td>\n",
       "      <td>48</td>\n",
       "      <td>1</td>\n",
       "      <td>1</td>\n",
       "      <td>0</td>\n",
       "      <td>2</td>\n",
       "      <td>C</td>\n",
       "      <td>72.0</td>\n",
       "      <td>0.458891</td>\n",
       "    </tr>\n",
       "    <tr>\n",
       "      <th>1</th>\n",
       "      <td>19</td>\n",
       "      <td>2</td>\n",
       "      <td>1</td>\n",
       "      <td>44</td>\n",
       "      <td>13</td>\n",
       "      <td>1</td>\n",
       "      <td>NaN</td>\n",
       "      <td>NaN</td>\n",
       "      <td>2</td>\n",
       "      <td>NaN</td>\n",
       "      <td>...</td>\n",
       "      <td>105.30</td>\n",
       "      <td>1</td>\n",
       "      <td>44</td>\n",
       "      <td>0</td>\n",
       "      <td>1</td>\n",
       "      <td>0</td>\n",
       "      <td>0</td>\n",
       "      <td>D</td>\n",
       "      <td>84.1</td>\n",
       "      <td>0.471677</td>\n",
       "    </tr>\n",
       "    <tr>\n",
       "      <th>2</th>\n",
       "      <td>34</td>\n",
       "      <td>2</td>\n",
       "      <td>2</td>\n",
       "      <td>42</td>\n",
       "      <td>12</td>\n",
       "      <td>2</td>\n",
       "      <td>NaN</td>\n",
       "      <td>NaN</td>\n",
       "      <td>2</td>\n",
       "      <td>NaN</td>\n",
       "      <td>...</td>\n",
       "      <td>58.92</td>\n",
       "      <td>2</td>\n",
       "      <td>42</td>\n",
       "      <td>0</td>\n",
       "      <td>0</td>\n",
       "      <td>0</td>\n",
       "      <td>0</td>\n",
       "      <td>D</td>\n",
       "      <td>77.1</td>\n",
       "      <td>0.484906</td>\n",
       "    </tr>\n",
       "    <tr>\n",
       "      <th>3</th>\n",
       "      <td>45</td>\n",
       "      <td>2</td>\n",
       "      <td>2</td>\n",
       "      <td>67</td>\n",
       "      <td>16</td>\n",
       "      <td>1</td>\n",
       "      <td>NaN</td>\n",
       "      <td>NaN</td>\n",
       "      <td>2</td>\n",
       "      <td>NaN</td>\n",
       "      <td>...</td>\n",
       "      <td>NaN</td>\n",
       "      <td>2</td>\n",
       "      <td>67</td>\n",
       "      <td>0</td>\n",
       "      <td>1</td>\n",
       "      <td>0</td>\n",
       "      <td>43</td>\n",
       "      <td>B</td>\n",
       "      <td>NaN</td>\n",
       "      <td>NaN</td>\n",
       "    </tr>\n",
       "    <tr>\n",
       "      <th>4</th>\n",
       "      <td>48</td>\n",
       "      <td>1</td>\n",
       "      <td>2</td>\n",
       "      <td>56</td>\n",
       "      <td>12</td>\n",
       "      <td>2</td>\n",
       "      <td>2.0</td>\n",
       "      <td>2.0</td>\n",
       "      <td>2</td>\n",
       "      <td>NaN</td>\n",
       "      <td>...</td>\n",
       "      <td>47.34</td>\n",
       "      <td>2</td>\n",
       "      <td>56</td>\n",
       "      <td>0</td>\n",
       "      <td>0</td>\n",
       "      <td>0</td>\n",
       "      <td>18</td>\n",
       "      <td>C</td>\n",
       "      <td>78.8</td>\n",
       "      <td>0.459207</td>\n",
       "    </tr>\n",
       "  </tbody>\n",
       "</table>\n",
       "<p>5 rows × 81 columns</p>\n",
       "</div>"
      ],
      "text/plain": [
       "   SEQN  DMARETHN  HSSEX  HSAGEIR  HFA8R  HFF18  HAC5A3  HAC5A4  HAD1  HAD5R  \\\n",
       "0     9         1      2       48     16      2     1.0     2.0     2    NaN   \n",
       "1    19         2      1       44     13      1     NaN     NaN     2    NaN   \n",
       "2    34         2      2       42     12      2     NaN     NaN     2    NaN   \n",
       "3    45         2      2       67     16      1     NaN     NaN     2    NaN   \n",
       "4    48         1      2       56     12      2     2.0     2.0     2    NaN   \n",
       "\n",
       "   ...   I1PSI  HSSEX2  HSAGEIR2  parental_diabetes  education  \\\n",
       "0  ...   64.80       2        48                  1          1   \n",
       "1  ...  105.30       1        44                  0          1   \n",
       "2  ...   58.92       2        42                  0          0   \n",
       "3  ...     NaN       2        67                  0          1   \n",
       "4  ...   47.34       2        56                  0          0   \n",
       "\n",
       "   Vigorous_Activity_Count  Moderate_Activity_Count  Activity_Level  \\\n",
       "0                        0                        2               C   \n",
       "1                        0                        0               D   \n",
       "2                        0                        0               D   \n",
       "3                        0                       43               B   \n",
       "4                        0                       18               C   \n",
       "\n",
       "   leg_length  leg_length_ratio  \n",
       "0        72.0          0.458891  \n",
       "1        84.1          0.471677  \n",
       "2        77.1          0.484906  \n",
       "3         NaN               NaN  \n",
       "4        78.8          0.459207  \n",
       "\n",
       "[5 rows x 81 columns]"
      ]
     },
     "execution_count": 8,
     "metadata": {},
     "output_type": "execute_result"
    }
   ],
   "source": [
    "# leg length-to-height ratio\n",
    "# (BMPHT-BMPSITHT)/BMPHT\n",
    "df['leg_length_ratio'] = df['leg_length'] / df['BMPHT']\n",
    "df.head()"
   ]
  },
  {
   "cell_type": "markdown",
   "metadata": {},
   "source": [
    "## Body fat\n",
    "Body fat only has 6778 eligible subjects on paper.  \n",
    "But I count for 6673."
   ]
  },
  {
   "cell_type": "markdown",
   "metadata": {},
   "source": [
    "### Step1: Exclude pregnant, had pacemaker"
   ]
  },
  {
   "cell_type": "code",
   "execution_count": 9,
   "metadata": {},
   "outputs": [
    {
     "data": {
      "text/plain": [
       "(7410, 81)"
      ]
     },
     "execution_count": 9,
     "metadata": {},
     "output_type": "execute_result"
    }
   ],
   "source": [
    "# body fat\n",
    "# count FFM first\n",
    "# for male\n",
    "# FFM = -10.678 + 0.262 weight + 0.652 height^2 / resistance + 0.015 resistance\n",
    "# for female\n",
    "# FFM = -9.529 + 0.168 weight + 0.696 height^2 / resistance + 0.016 resistance\n",
    "# TBF(total body fat) = weight - FFM\n",
    "# %BF(percent body fat) = TBF / weight\n",
    "# \"BMPWT\": Weight (kg); \"BMPHT\": Standing height (cm); \"PEP12A1\": BIA resistance (ohms) (12 years and over)\n",
    "# \"PEPPACE\": Examinee had pacemaker--cannot obtain BIA; \"MAPF12R\": Pregnancy status; \n",
    "# 1: Yes, 2: No, 8: Blank but applicable, 9: Don't know\n",
    "\n",
    "# Participants who were pregnant, who had cardiac pacemakers, \n",
    "# or who had previously undergone limb amputation were excluded from the measurement of biometrical impedance\n",
    "new_df = df[(df['MAPF12R'] != 1) & (df['PEPPACE'] != 1)]\n",
    "new_df.shape\n"
   ]
  },
  {
   "cell_type": "markdown",
   "metadata": {},
   "source": [
    "### Step2: Exclude whom didn't eligible to take BIA test"
   ]
  },
  {
   "cell_type": "code",
   "execution_count": 10,
   "metadata": {},
   "outputs": [
    {
     "data": {
      "text/plain": [
       "(6673, 81)"
      ]
     },
     "execution_count": 10,
     "metadata": {},
     "output_type": "execute_result"
    }
   ],
   "source": [
    "# first filt \"PEP12A1\" (BIA resistance) is not null and is not 8888\n",
    "new_df = df[(df['PEP12A1'].notnull()) & (df['PEP12A1'] != 8888)]\n",
    "new_df.shape"
   ]
  },
  {
   "cell_type": "markdown",
   "metadata": {},
   "source": [
    "### Calculate Percent Body Fat"
   ]
  },
  {
   "cell_type": "code",
   "execution_count": 11,
   "metadata": {},
   "outputs": [
    {
     "name": "stderr",
     "output_type": "stream",
     "text": [
      "C:\\Users\\USER\\AppData\\Local\\Temp\\ipykernel_29944\\2963816343.py:8: SettingWithCopyWarning: \n",
      "A value is trying to be set on a copy of a slice from a DataFrame.\n",
      "Try using .loc[row_indexer,col_indexer] = value instead\n",
      "\n",
      "See the caveats in the documentation: https://pandas.pydata.org/pandas-docs/stable/user_guide/indexing.html#returning-a-view-versus-a-copy\n",
      "  new_df['FFM'] = new_df.apply(calculate_FFM, axis=1)\n",
      "C:\\Users\\USER\\AppData\\Local\\Temp\\ipykernel_29944\\2963816343.py:9: SettingWithCopyWarning: \n",
      "A value is trying to be set on a copy of a slice from a DataFrame.\n",
      "Try using .loc[row_indexer,col_indexer] = value instead\n",
      "\n",
      "See the caveats in the documentation: https://pandas.pydata.org/pandas-docs/stable/user_guide/indexing.html#returning-a-view-versus-a-copy\n",
      "  new_df['TBF'] = new_df['BMPWT'] - new_df['FFM']\n",
      "C:\\Users\\USER\\AppData\\Local\\Temp\\ipykernel_29944\\2963816343.py:10: SettingWithCopyWarning: \n",
      "A value is trying to be set on a copy of a slice from a DataFrame.\n",
      "Try using .loc[row_indexer,col_indexer] = value instead\n",
      "\n",
      "See the caveats in the documentation: https://pandas.pydata.org/pandas-docs/stable/user_guide/indexing.html#returning-a-view-versus-a-copy\n",
      "  new_df['%BF'] = new_df['TBF'] / new_df['BMPWT']\n"
     ]
    },
    {
     "data": {
      "text/html": [
       "<div>\n",
       "<style scoped>\n",
       "    .dataframe tbody tr th:only-of-type {\n",
       "        vertical-align: middle;\n",
       "    }\n",
       "\n",
       "    .dataframe tbody tr th {\n",
       "        vertical-align: top;\n",
       "    }\n",
       "\n",
       "    .dataframe thead th {\n",
       "        text-align: right;\n",
       "    }\n",
       "</style>\n",
       "<table border=\"1\" class=\"dataframe\">\n",
       "  <thead>\n",
       "    <tr style=\"text-align: right;\">\n",
       "      <th></th>\n",
       "      <th>SEQN</th>\n",
       "      <th>DMARETHN</th>\n",
       "      <th>HSSEX</th>\n",
       "      <th>HSAGEIR</th>\n",
       "      <th>HFA8R</th>\n",
       "      <th>HFF18</th>\n",
       "      <th>HAC5A3</th>\n",
       "      <th>HAC5A4</th>\n",
       "      <th>HAD1</th>\n",
       "      <th>HAD5R</th>\n",
       "      <th>...</th>\n",
       "      <th>parental_diabetes</th>\n",
       "      <th>education</th>\n",
       "      <th>Vigorous_Activity_Count</th>\n",
       "      <th>Moderate_Activity_Count</th>\n",
       "      <th>Activity_Level</th>\n",
       "      <th>leg_length</th>\n",
       "      <th>leg_length_ratio</th>\n",
       "      <th>FFM</th>\n",
       "      <th>TBF</th>\n",
       "      <th>%BF</th>\n",
       "    </tr>\n",
       "  </thead>\n",
       "  <tbody>\n",
       "    <tr>\n",
       "      <th>0</th>\n",
       "      <td>9</td>\n",
       "      <td>1</td>\n",
       "      <td>2</td>\n",
       "      <td>48</td>\n",
       "      <td>16</td>\n",
       "      <td>2</td>\n",
       "      <td>1.0</td>\n",
       "      <td>2.0</td>\n",
       "      <td>2</td>\n",
       "      <td>NaN</td>\n",
       "      <td>...</td>\n",
       "      <td>1</td>\n",
       "      <td>1</td>\n",
       "      <td>0</td>\n",
       "      <td>2</td>\n",
       "      <td>C</td>\n",
       "      <td>72.0</td>\n",
       "      <td>0.458891</td>\n",
       "      <td>43.510731</td>\n",
       "      <td>24.539269</td>\n",
       "      <td>0.360606</td>\n",
       "    </tr>\n",
       "    <tr>\n",
       "      <th>1</th>\n",
       "      <td>19</td>\n",
       "      <td>2</td>\n",
       "      <td>1</td>\n",
       "      <td>44</td>\n",
       "      <td>13</td>\n",
       "      <td>1</td>\n",
       "      <td>NaN</td>\n",
       "      <td>NaN</td>\n",
       "      <td>2</td>\n",
       "      <td>NaN</td>\n",
       "      <td>...</td>\n",
       "      <td>0</td>\n",
       "      <td>1</td>\n",
       "      <td>0</td>\n",
       "      <td>0</td>\n",
       "      <td>D</td>\n",
       "      <td>84.1</td>\n",
       "      <td>0.471677</td>\n",
       "      <td>63.619565</td>\n",
       "      <td>22.580435</td>\n",
       "      <td>0.261954</td>\n",
       "    </tr>\n",
       "    <tr>\n",
       "      <th>2</th>\n",
       "      <td>34</td>\n",
       "      <td>2</td>\n",
       "      <td>2</td>\n",
       "      <td>42</td>\n",
       "      <td>12</td>\n",
       "      <td>2</td>\n",
       "      <td>NaN</td>\n",
       "      <td>NaN</td>\n",
       "      <td>2</td>\n",
       "      <td>NaN</td>\n",
       "      <td>...</td>\n",
       "      <td>0</td>\n",
       "      <td>0</td>\n",
       "      <td>0</td>\n",
       "      <td>0</td>\n",
       "      <td>D</td>\n",
       "      <td>77.1</td>\n",
       "      <td>0.484906</td>\n",
       "      <td>38.118489</td>\n",
       "      <td>19.081511</td>\n",
       "      <td>0.333593</td>\n",
       "    </tr>\n",
       "    <tr>\n",
       "      <th>4</th>\n",
       "      <td>48</td>\n",
       "      <td>1</td>\n",
       "      <td>2</td>\n",
       "      <td>56</td>\n",
       "      <td>12</td>\n",
       "      <td>2</td>\n",
       "      <td>2.0</td>\n",
       "      <td>2.0</td>\n",
       "      <td>2</td>\n",
       "      <td>NaN</td>\n",
       "      <td>...</td>\n",
       "      <td>0</td>\n",
       "      <td>0</td>\n",
       "      <td>0</td>\n",
       "      <td>18</td>\n",
       "      <td>C</td>\n",
       "      <td>78.8</td>\n",
       "      <td>0.459207</td>\n",
       "      <td>60.149494</td>\n",
       "      <td>48.900506</td>\n",
       "      <td>0.448423</td>\n",
       "    </tr>\n",
       "    <tr>\n",
       "      <th>6</th>\n",
       "      <td>52</td>\n",
       "      <td>3</td>\n",
       "      <td>1</td>\n",
       "      <td>50</td>\n",
       "      <td>12</td>\n",
       "      <td>2</td>\n",
       "      <td>2.0</td>\n",
       "      <td>2.0</td>\n",
       "      <td>2</td>\n",
       "      <td>NaN</td>\n",
       "      <td>...</td>\n",
       "      <td>0</td>\n",
       "      <td>0</td>\n",
       "      <td>13</td>\n",
       "      <td>17</td>\n",
       "      <td>C</td>\n",
       "      <td>82.8</td>\n",
       "      <td>0.464646</td>\n",
       "      <td>60.141719</td>\n",
       "      <td>19.458281</td>\n",
       "      <td>0.244451</td>\n",
       "    </tr>\n",
       "  </tbody>\n",
       "</table>\n",
       "<p>5 rows × 84 columns</p>\n",
       "</div>"
      ],
      "text/plain": [
       "   SEQN  DMARETHN  HSSEX  HSAGEIR  HFA8R  HFF18  HAC5A3  HAC5A4  HAD1  HAD5R  \\\n",
       "0     9         1      2       48     16      2     1.0     2.0     2    NaN   \n",
       "1    19         2      1       44     13      1     NaN     NaN     2    NaN   \n",
       "2    34         2      2       42     12      2     NaN     NaN     2    NaN   \n",
       "4    48         1      2       56     12      2     2.0     2.0     2    NaN   \n",
       "6    52         3      1       50     12      2     2.0     2.0     2    NaN   \n",
       "\n",
       "   ...  parental_diabetes  education  Vigorous_Activity_Count  \\\n",
       "0  ...                  1          1                        0   \n",
       "1  ...                  0          1                        0   \n",
       "2  ...                  0          0                        0   \n",
       "4  ...                  0          0                        0   \n",
       "6  ...                  0          0                       13   \n",
       "\n",
       "   Moderate_Activity_Count  Activity_Level  leg_length  leg_length_ratio  \\\n",
       "0                        2               C        72.0          0.458891   \n",
       "1                        0               D        84.1          0.471677   \n",
       "2                        0               D        77.1          0.484906   \n",
       "4                       18               C        78.8          0.459207   \n",
       "6                       17               C        82.8          0.464646   \n",
       "\n",
       "         FFM        TBF       %BF  \n",
       "0  43.510731  24.539269  0.360606  \n",
       "1  63.619565  22.580435  0.261954  \n",
       "2  38.118489  19.081511  0.333593  \n",
       "4  60.149494  48.900506  0.448423  \n",
       "6  60.141719  19.458281  0.244451  \n",
       "\n",
       "[5 rows x 84 columns]"
      ]
     },
     "execution_count": 11,
     "metadata": {},
     "output_type": "execute_result"
    }
   ],
   "source": [
    "# calculate FFM\n",
    "def calculate_FFM(row):\n",
    "    # female or male\n",
    "    if row[\"HSSEX\"] == 1: # 1:male\n",
    "        return -10.678 + 0.262 * row['BMPWT'] + 0.652 * row['BMPHT']**2 / row['PEP12A1'] + 0.015 * row['PEP12A1']\n",
    "    else: # 2: female\n",
    "        return -9.529 + 0.168 * row['BMPWT'] + 0.696 * row['BMPHT']**2 / row['PEP12A1'] + 0.016 * row['PEP12A1']\n",
    "new_df['FFM'] = new_df.apply(calculate_FFM, axis=1)\n",
    "new_df['TBF'] = new_df['BMPWT'] - new_df['FFM']\n",
    "new_df['%BF'] = new_df['TBF'] / new_df['BMPWT']\n",
    "new_df.head()"
   ]
  },
  {
   "cell_type": "code",
   "execution_count": 12,
   "metadata": {},
   "outputs": [
    {
     "data": {
      "text/plain": [
       "(6673, 84)"
      ]
     },
     "execution_count": 12,
     "metadata": {},
     "output_type": "execute_result"
    }
   ],
   "source": [
    "new_df.shape"
   ]
  },
  {
   "cell_type": "markdown",
   "metadata": {},
   "source": [
    "### Merge body fat dataframe with original dataframe on 'SEQN', add column, \"%BF\""
   ]
  },
  {
   "cell_type": "code",
   "execution_count": 13,
   "metadata": {},
   "outputs": [
    {
     "data": {
      "text/plain": [
       "(7424, 82)"
      ]
     },
     "execution_count": 13,
     "metadata": {},
     "output_type": "execute_result"
    }
   ],
   "source": [
    "# Merge body fat dataframe with original dataframe on 'SEQN', add column, \"%BF\"\n",
    "df = pd.merge(df, new_df[['SEQN', '%BF']], on='SEQN', how='left')\n",
    "df.shape"
   ]
  },
  {
   "cell_type": "markdown",
   "metadata": {},
   "source": [
    "## HOMA-IR"
   ]
  },
  {
   "cell_type": "markdown",
   "metadata": {},
   "source": [
    "### Exclude diabete subjects, by \"HAD1\""
   ]
  },
  {
   "cell_type": "code",
   "execution_count": 14,
   "metadata": {},
   "outputs": [
    {
     "data": {
      "text/plain": [
       "HAD1\n",
       "2    6661\n",
       "1     754\n",
       "9       9\n",
       "Name: count, dtype: int64"
      ]
     },
     "execution_count": 14,
     "metadata": {},
     "output_type": "execute_result"
    }
   ],
   "source": [
    "# 1=Yes  2=No  8=Blank but applicable  9=Don't know      \n",
    "df['HAD1'].value_counts()"
   ]
  },
  {
   "cell_type": "code",
   "execution_count": 15,
   "metadata": {},
   "outputs": [
    {
     "data": {
      "text/plain": [
       "0"
      ]
     },
     "execution_count": 15,
     "metadata": {},
     "output_type": "execute_result"
    }
   ],
   "source": [
    "df['HAD1'].isnull().sum()"
   ]
  },
  {
   "cell_type": "code",
   "execution_count": 16,
   "metadata": {},
   "outputs": [
    {
     "data": {
      "text/plain": [
       "(6661, 82)"
      ]
     },
     "execution_count": 16,
     "metadata": {},
     "output_type": "execute_result"
    }
   ],
   "source": [
    "# exclude diabetes\n",
    "HOMA_df = df[(df['HAD1'] == 2)]\n",
    "HOMA_df.shape"
   ]
  },
  {
   "cell_type": "markdown",
   "metadata": {},
   "source": [
    "### Check the range of glucose and insulin for HOMA2-IR model amd filter the data"
   ]
  },
  {
   "cell_type": "code",
   "execution_count": 17,
   "metadata": {},
   "outputs": [
    {
     "name": "stdout",
     "output_type": "stream",
     "text": [
      "6340\n",
      "6159\n",
      "6142\n"
     ]
    }
   ],
   "source": [
    "# Check the range \n",
    "# plasma glucose ranged from 3.0 to 25.0 mmol/l and insulin ranged from 20 to 400 pmol/l\n",
    "# \"G1PSI\": Plasma glucose (mmol/l); \"I1PSI\": Serum Insulin (pmol/l)\n",
    "print(HOMA_df['G1PSI'].between(3.0, 25.0).sum())\n",
    "print(HOMA_df['I1PSI'].between(20, 400).sum())\n",
    "print((HOMA_df['G1PSI'].between(3.0, 25.0) & HOMA_df['I1PSI'].between(20.0, 400.0)).sum())"
   ]
  },
  {
   "cell_type": "code",
   "execution_count": 18,
   "metadata": {},
   "outputs": [
    {
     "data": {
      "text/plain": [
       "(6142, 82)"
      ]
     },
     "execution_count": 18,
     "metadata": {},
     "output_type": "execute_result"
    }
   ],
   "source": [
    "# filter the data\n",
    "HOMA_df = HOMA_df[(HOMA_df['G1PSI'].between(3.0, 25.0)) & (HOMA_df['I1PSI'].between(20.0, 400.0))]\n",
    "HOMA_df.shape"
   ]
  },
  {
   "cell_type": "markdown",
   "metadata": {},
   "source": [
    "### Output the subjects whom we want to calculate the HOMA-IR value"
   ]
  },
  {
   "cell_type": "code",
   "execution_count": 19,
   "metadata": {},
   "outputs": [],
   "source": [
    "tmp_df = HOMA_df[['SEQN', 'G1PSI', 'I1PSI']]\n",
    "tmp_df.head()\n",
    "tmp_df.to_csv('HOMA.csv', index=False)"
   ]
  },
  {
   "cell_type": "markdown",
   "metadata": {},
   "source": [
    "### Get the result back from HOMA2-IR model"
   ]
  },
  {
   "cell_type": "code",
   "execution_count": 20,
   "metadata": {},
   "outputs": [
    {
     "data": {
      "text/html": [
       "<div>\n",
       "<style scoped>\n",
       "    .dataframe tbody tr th:only-of-type {\n",
       "        vertical-align: middle;\n",
       "    }\n",
       "\n",
       "    .dataframe tbody tr th {\n",
       "        vertical-align: top;\n",
       "    }\n",
       "\n",
       "    .dataframe thead th {\n",
       "        text-align: right;\n",
       "    }\n",
       "</style>\n",
       "<table border=\"1\" class=\"dataframe\">\n",
       "  <thead>\n",
       "    <tr style=\"text-align: right;\">\n",
       "      <th></th>\n",
       "      <th>SEQN</th>\n",
       "      <th>G1PSI</th>\n",
       "      <th>I1PSI</th>\n",
       "      <th>HOMA2 %B</th>\n",
       "      <th>HOMA2 %S</th>\n",
       "      <th>HOMA2_IR</th>\n",
       "    </tr>\n",
       "  </thead>\n",
       "  <tbody>\n",
       "    <tr>\n",
       "      <th>0</th>\n",
       "      <td>9</td>\n",
       "      <td>6.178</td>\n",
       "      <td>64.80</td>\n",
       "      <td>71.4</td>\n",
       "      <td>78.6</td>\n",
       "      <td>1.272265</td>\n",
       "    </tr>\n",
       "    <tr>\n",
       "      <th>1</th>\n",
       "      <td>19</td>\n",
       "      <td>5.995</td>\n",
       "      <td>105.30</td>\n",
       "      <td>105.9</td>\n",
       "      <td>49.2</td>\n",
       "      <td>2.032520</td>\n",
       "    </tr>\n",
       "    <tr>\n",
       "      <th>2</th>\n",
       "      <td>34</td>\n",
       "      <td>5.490</td>\n",
       "      <td>58.92</td>\n",
       "      <td>84.4</td>\n",
       "      <td>88.7</td>\n",
       "      <td>1.127396</td>\n",
       "    </tr>\n",
       "    <tr>\n",
       "      <th>3</th>\n",
       "      <td>48</td>\n",
       "      <td>4.713</td>\n",
       "      <td>47.34</td>\n",
       "      <td>98.7</td>\n",
       "      <td>114.5</td>\n",
       "      <td>0.873362</td>\n",
       "    </tr>\n",
       "    <tr>\n",
       "      <th>4</th>\n",
       "      <td>51</td>\n",
       "      <td>4.896</td>\n",
       "      <td>240.00</td>\n",
       "      <td>274.8</td>\n",
       "      <td>23.5</td>\n",
       "      <td>4.255319</td>\n",
       "    </tr>\n",
       "  </tbody>\n",
       "</table>\n",
       "</div>"
      ],
      "text/plain": [
       "   SEQN  G1PSI   I1PSI  HOMA2 %B  HOMA2 %S  HOMA2_IR\n",
       "0     9  6.178   64.80      71.4      78.6  1.272265\n",
       "1    19  5.995  105.30     105.9      49.2  2.032520\n",
       "2    34  5.490   58.92      84.4      88.7  1.127396\n",
       "3    48  4.713   47.34      98.7     114.5  0.873362\n",
       "4    51  4.896  240.00     274.8      23.5  4.255319"
      ]
     },
     "execution_count": 20,
     "metadata": {},
     "output_type": "execute_result"
    }
   ],
   "source": [
    "# read the result\n",
    "HOMAIR_df = pd.read_csv('HOMA_IR.csv')\n",
    "HOMAIR_df.head()"
   ]
  },
  {
   "cell_type": "code",
   "execution_count": 21,
   "metadata": {},
   "outputs": [
    {
     "data": {
      "text/html": [
       "<div>\n",
       "<style scoped>\n",
       "    .dataframe tbody tr th:only-of-type {\n",
       "        vertical-align: middle;\n",
       "    }\n",
       "\n",
       "    .dataframe tbody tr th {\n",
       "        vertical-align: top;\n",
       "    }\n",
       "\n",
       "    .dataframe thead th {\n",
       "        text-align: right;\n",
       "    }\n",
       "</style>\n",
       "<table border=\"1\" class=\"dataframe\">\n",
       "  <thead>\n",
       "    <tr style=\"text-align: right;\">\n",
       "      <th></th>\n",
       "      <th>SEQN</th>\n",
       "      <th>DMARETHN</th>\n",
       "      <th>HSSEX</th>\n",
       "      <th>HSAGEIR</th>\n",
       "      <th>HFA8R</th>\n",
       "      <th>HFF18</th>\n",
       "      <th>HAC5A3</th>\n",
       "      <th>HAC5A4</th>\n",
       "      <th>HAD1</th>\n",
       "      <th>HAD5R</th>\n",
       "      <th>...</th>\n",
       "      <th>Moderate_Activity_Count</th>\n",
       "      <th>Activity_Level</th>\n",
       "      <th>leg_length</th>\n",
       "      <th>leg_length_ratio</th>\n",
       "      <th>%BF</th>\n",
       "      <th>G1PSI_y</th>\n",
       "      <th>I1PSI_y</th>\n",
       "      <th>HOMA2 %B</th>\n",
       "      <th>HOMA2 %S</th>\n",
       "      <th>HOMA2_IR</th>\n",
       "    </tr>\n",
       "  </thead>\n",
       "  <tbody>\n",
       "    <tr>\n",
       "      <th>0</th>\n",
       "      <td>9</td>\n",
       "      <td>1</td>\n",
       "      <td>2</td>\n",
       "      <td>48</td>\n",
       "      <td>16</td>\n",
       "      <td>2</td>\n",
       "      <td>1.0</td>\n",
       "      <td>2.0</td>\n",
       "      <td>2</td>\n",
       "      <td>NaN</td>\n",
       "      <td>...</td>\n",
       "      <td>2</td>\n",
       "      <td>C</td>\n",
       "      <td>72.0</td>\n",
       "      <td>0.458891</td>\n",
       "      <td>0.360606</td>\n",
       "      <td>6.178</td>\n",
       "      <td>64.80</td>\n",
       "      <td>71.4</td>\n",
       "      <td>78.6</td>\n",
       "      <td>1.272265</td>\n",
       "    </tr>\n",
       "    <tr>\n",
       "      <th>1</th>\n",
       "      <td>19</td>\n",
       "      <td>2</td>\n",
       "      <td>1</td>\n",
       "      <td>44</td>\n",
       "      <td>13</td>\n",
       "      <td>1</td>\n",
       "      <td>NaN</td>\n",
       "      <td>NaN</td>\n",
       "      <td>2</td>\n",
       "      <td>NaN</td>\n",
       "      <td>...</td>\n",
       "      <td>0</td>\n",
       "      <td>D</td>\n",
       "      <td>84.1</td>\n",
       "      <td>0.471677</td>\n",
       "      <td>0.261954</td>\n",
       "      <td>5.995</td>\n",
       "      <td>105.30</td>\n",
       "      <td>105.9</td>\n",
       "      <td>49.2</td>\n",
       "      <td>2.032520</td>\n",
       "    </tr>\n",
       "    <tr>\n",
       "      <th>2</th>\n",
       "      <td>34</td>\n",
       "      <td>2</td>\n",
       "      <td>2</td>\n",
       "      <td>42</td>\n",
       "      <td>12</td>\n",
       "      <td>2</td>\n",
       "      <td>NaN</td>\n",
       "      <td>NaN</td>\n",
       "      <td>2</td>\n",
       "      <td>NaN</td>\n",
       "      <td>...</td>\n",
       "      <td>0</td>\n",
       "      <td>D</td>\n",
       "      <td>77.1</td>\n",
       "      <td>0.484906</td>\n",
       "      <td>0.333593</td>\n",
       "      <td>5.490</td>\n",
       "      <td>58.92</td>\n",
       "      <td>84.4</td>\n",
       "      <td>88.7</td>\n",
       "      <td>1.127396</td>\n",
       "    </tr>\n",
       "    <tr>\n",
       "      <th>3</th>\n",
       "      <td>48</td>\n",
       "      <td>1</td>\n",
       "      <td>2</td>\n",
       "      <td>56</td>\n",
       "      <td>12</td>\n",
       "      <td>2</td>\n",
       "      <td>2.0</td>\n",
       "      <td>2.0</td>\n",
       "      <td>2</td>\n",
       "      <td>NaN</td>\n",
       "      <td>...</td>\n",
       "      <td>18</td>\n",
       "      <td>C</td>\n",
       "      <td>78.8</td>\n",
       "      <td>0.459207</td>\n",
       "      <td>0.448423</td>\n",
       "      <td>4.713</td>\n",
       "      <td>47.34</td>\n",
       "      <td>98.7</td>\n",
       "      <td>114.5</td>\n",
       "      <td>0.873362</td>\n",
       "    </tr>\n",
       "    <tr>\n",
       "      <th>4</th>\n",
       "      <td>51</td>\n",
       "      <td>3</td>\n",
       "      <td>1</td>\n",
       "      <td>44</td>\n",
       "      <td>7</td>\n",
       "      <td>1</td>\n",
       "      <td>NaN</td>\n",
       "      <td>NaN</td>\n",
       "      <td>2</td>\n",
       "      <td>NaN</td>\n",
       "      <td>...</td>\n",
       "      <td>61</td>\n",
       "      <td>B</td>\n",
       "      <td>85.4</td>\n",
       "      <td>0.473130</td>\n",
       "      <td>NaN</td>\n",
       "      <td>4.896</td>\n",
       "      <td>240.00</td>\n",
       "      <td>274.8</td>\n",
       "      <td>23.5</td>\n",
       "      <td>4.255319</td>\n",
       "    </tr>\n",
       "  </tbody>\n",
       "</table>\n",
       "<p>5 rows × 87 columns</p>\n",
       "</div>"
      ],
      "text/plain": [
       "   SEQN  DMARETHN  HSSEX  HSAGEIR  HFA8R  HFF18  HAC5A3  HAC5A4  HAD1  HAD5R  \\\n",
       "0     9         1      2       48     16      2     1.0     2.0     2    NaN   \n",
       "1    19         2      1       44     13      1     NaN     NaN     2    NaN   \n",
       "2    34         2      2       42     12      2     NaN     NaN     2    NaN   \n",
       "3    48         1      2       56     12      2     2.0     2.0     2    NaN   \n",
       "4    51         3      1       44      7      1     NaN     NaN     2    NaN   \n",
       "\n",
       "   ...  Moderate_Activity_Count  Activity_Level  leg_length  leg_length_ratio  \\\n",
       "0  ...                        2               C        72.0          0.458891   \n",
       "1  ...                        0               D        84.1          0.471677   \n",
       "2  ...                        0               D        77.1          0.484906   \n",
       "3  ...                       18               C        78.8          0.459207   \n",
       "4  ...                       61               B        85.4          0.473130   \n",
       "\n",
       "        %BF  G1PSI_y  I1PSI_y  HOMA2 %B  HOMA2 %S  HOMA2_IR  \n",
       "0  0.360606    6.178    64.80      71.4      78.6  1.272265  \n",
       "1  0.261954    5.995   105.30     105.9      49.2  2.032520  \n",
       "2  0.333593    5.490    58.92      84.4      88.7  1.127396  \n",
       "3  0.448423    4.713    47.34      98.7     114.5  0.873362  \n",
       "4       NaN    4.896   240.00     274.8      23.5  4.255319  \n",
       "\n",
       "[5 rows x 87 columns]"
      ]
     },
     "execution_count": 21,
     "metadata": {},
     "output_type": "execute_result"
    }
   ],
   "source": [
    "# merge the result\n",
    "# merge by 'SEQN'\n",
    "HOMAIR_df = pd.merge(HOMA_df, HOMAIR_df, on='SEQN')\n",
    "HOMAIR_df.head()"
   ]
  },
  {
   "cell_type": "code",
   "execution_count": 22,
   "metadata": {},
   "outputs": [
    {
     "data": {
      "text/plain": [
       "(6142, 87)"
      ]
     },
     "execution_count": 22,
     "metadata": {},
     "output_type": "execute_result"
    }
   ],
   "source": [
    "HOMAIR_df.shape"
   ]
  },
  {
   "cell_type": "markdown",
   "metadata": {},
   "source": [
    "### Merge HOMAIR dataframe with original dataframe on 'SEQN', add column, \"HOMA2_IR\""
   ]
  },
  {
   "cell_type": "code",
   "execution_count": 23,
   "metadata": {},
   "outputs": [
    {
     "data": {
      "text/plain": [
       "(7424, 83)"
      ]
     },
     "execution_count": 23,
     "metadata": {},
     "output_type": "execute_result"
    }
   ],
   "source": [
    "# Merge HOMAIR dataframe with original dataframe on 'SEQN', add column, \"HOMA2_IR\"\n",
    "df = pd.merge(df, HOMAIR_df[['SEQN', 'HOMA2_IR']], on='SEQN', how='left')\n",
    "df.shape"
   ]
  },
  {
   "cell_type": "markdown",
   "metadata": {},
   "source": [
    "## Glucose intolerance"
   ]
  },
  {
   "cell_type": "markdown",
   "metadata": {},
   "source": [
    "### Exclude Diabetes, by \"HAD1\"\n",
    "Subjects with diabetes are 839 in paper, but I count 763.  "
   ]
  },
  {
   "cell_type": "code",
   "execution_count": 24,
   "metadata": {},
   "outputs": [
    {
     "data": {
      "text/plain": [
       "HAD1\n",
       "2    6661\n",
       "1     754\n",
       "9       9\n",
       "Name: count, dtype: int64"
      ]
     },
     "execution_count": 24,
     "metadata": {},
     "output_type": "execute_result"
    }
   ],
   "source": [
    "df[\"HAD1\"].value_counts()"
   ]
  },
  {
   "cell_type": "code",
   "execution_count": 25,
   "metadata": {},
   "outputs": [
    {
     "data": {
      "text/plain": [
       "(6661, 83)"
      ]
     },
     "execution_count": 25,
     "metadata": {},
     "output_type": "execute_result"
    }
   ],
   "source": [
    "# drop HAD1 != 2\n",
    "OGTT_df = df[(df['HAD1'] == 2)]\n",
    "OGTT_df.shape"
   ]
  },
  {
   "cell_type": "markdown",
   "metadata": {},
   "source": [
    "### Exclude whom didn't receive OGTT, which \"G1PCODE\" is null means which didn't receive OGTT\n",
    "Subjects with diabetes are 705 in paper, but I count 698.  "
   ]
  },
  {
   "cell_type": "code",
   "execution_count": 26,
   "metadata": {},
   "outputs": [
    {
     "data": {
      "text/plain": [
       "5963"
      ]
     },
     "execution_count": 26,
     "metadata": {},
     "output_type": "execute_result"
    }
   ],
   "source": [
    "# the number of subjects receive OGTT\n",
    "OGTT_df[\"G1PCODE\"].isnull().sum()"
   ]
  },
  {
   "cell_type": "code",
   "execution_count": 27,
   "metadata": {},
   "outputs": [
    {
     "data": {
      "text/plain": [
       "(5963, 83)"
      ]
     },
     "execution_count": 27,
     "metadata": {},
     "output_type": "execute_result"
    }
   ],
   "source": [
    "# keep \"G1PCODE\" is null\n",
    "OGTT_df = OGTT_df[OGTT_df[\"G1PCODE\"].isnull()]\n",
    "OGTT_df.shape"
   ]
  },
  {
   "cell_type": "markdown",
   "metadata": {},
   "source": [
    "### Exclude whose time between glucose challenge ane second venipuncture is out of range [105, 135]"
   ]
  },
  {
   "cell_type": "code",
   "execution_count": 28,
   "metadata": {},
   "outputs": [
    {
     "data": {
      "text/plain": [
       "5812"
      ]
     },
     "execution_count": 28,
     "metadata": {},
     "output_type": "execute_result"
    }
   ],
   "source": [
    "# G1PTIM1 needs to between 105 to 135 minutes\n",
    "len(OGTT_df[OGTT_df[\"G1PTIM1\"].between(105, 135)])\n"
   ]
  },
  {
   "cell_type": "code",
   "execution_count": 29,
   "metadata": {},
   "outputs": [
    {
     "data": {
      "text/plain": [
       "(5812, 83)"
      ]
     },
     "execution_count": 29,
     "metadata": {},
     "output_type": "execute_result"
    }
   ],
   "source": [
    "OGTT_df = OGTT_df[OGTT_df[\"G1PTIM1\"].between(105, 135)]\n",
    "OGTT_df.shape"
   ]
  },
  {
   "cell_type": "markdown",
   "metadata": {},
   "source": [
    "### Classification of glucose intolerance"
   ]
  },
  {
   "cell_type": "code",
   "execution_count": 30,
   "metadata": {},
   "outputs": [
    {
     "data": {
      "text/plain": [
       "Index(['SEQN', 'DMARETHN', 'HSSEX', 'HSAGEIR', 'HFA8R', 'HFF18', 'HAC5A3',\n",
       "       'HAC5A4', 'HAD1', 'HAD5R', 'HAD6', 'HAR1', 'HAT1S', 'HAT1MET', 'HAT2',\n",
       "       'HAT2MET', 'HAT3S', 'HAT4', 'HAT4MET', 'HAT5S', 'HAT6', 'HAT6MET',\n",
       "       'HAT7S', 'HAT8', 'HAT8MET', 'HAT9S', 'HAT10', 'HAT10MET', 'HAT11S',\n",
       "       'HAT12', 'HAT12MET', 'HAT13S', 'HAT14', 'HAT14MET', 'HAT15S', 'HAT16',\n",
       "       'HAT16MET', 'HAT17S', 'HAT18', 'HAT19CD', 'HAT19MET', 'HAT20S',\n",
       "       'HAT21CD', 'HAT21MET', 'HAT22S', 'HAT23CD', 'HAT23MET', 'HAT24S',\n",
       "       'HAT25CD', 'HAT25MET', 'HAT26S', 'WTPFEX6', 'BMPWT', 'BMPBMI', 'BMPHT',\n",
       "       'BMPSITHT', 'PEPPREG', 'PEPPACE', 'PEP12A1', 'MAPF12', 'MAPF12R',\n",
       "       'HXPH2', 'HSSEX3', 'HSAGEIR3', 'G1P', 'G1PSI', 'G1PCODE', 'G1PTIM1',\n",
       "       'G1PTIM2', 'G2PSI', 'I1P', 'I1PSI', 'HSSEX2', 'HSAGEIR2',\n",
       "       'parental_diabetes', 'education', 'Vigorous_Activity_Count',\n",
       "       'Moderate_Activity_Count', 'Activity_Level', 'leg_length',\n",
       "       'leg_length_ratio', '%BF', 'HOMA2_IR'],\n",
       "      dtype='object')"
      ]
     },
     "execution_count": 30,
     "metadata": {},
     "output_type": "execute_result"
    }
   ],
   "source": [
    "OGTT_df.columns"
   ]
  },
  {
   "cell_type": "code",
   "execution_count": 31,
   "metadata": {},
   "outputs": [
    {
     "data": {
      "text/plain": [
       "OGTT_Class\n",
       "N    3587\n",
       "I    1449\n",
       "D     776\n",
       "Name: count, dtype: int64"
      ]
     },
     "execution_count": 31,
     "metadata": {},
     "output_type": "execute_result"
    }
   ],
   "source": [
    "# “normal” for fasting plasma glucose <7.8 mmol/l and 2-h plasma glucose <7.8 mmol/l, \n",
    "# “impaired glucose tolerance” (IGT) for fasting plasma glucose <7.8 mmol/l and 2-h plasma glucose 7.8–11.1 mmol/l, and \n",
    "# “diabetes” for fasting plasma glucose ≥7.8 mmol/l or 2-h plasma glucose ≥11.1 mmol/l.\n",
    "# \"G1PSI\": fasting plasma glucose\n",
    "# \"G2PSI\": 2-h plasma glucose\n",
    "\n",
    "def classify_OGTT(row):\n",
    "    if row['G1PSI'] < 7.8 and row['G2PSI'] < 7.8:\n",
    "        return 'N' #'normal'\n",
    "    elif row['G1PSI'] < 7.8 and row['G2PSI'] >= 7.8 and row['G2PSI'] < 11.1:\n",
    "        return 'I' #'IGT'\n",
    "    else:\n",
    "        return 'D' #'diabetes'\n",
    "\n",
    "OGTT_df['OGTT_Class'] = OGTT_df.apply(classify_OGTT, axis=1)\n",
    "OGTT_df['OGTT_Class'].value_counts()"
   ]
  },
  {
   "cell_type": "markdown",
   "metadata": {},
   "source": [
    "### Merge OGTT dataframe with original dataframe on 'SEQN', add column, \"OGTT_Class\"\n",
    "N: normal; I: IGT(impaired glucose tolerance); D: diabetes"
   ]
  },
  {
   "cell_type": "code",
   "execution_count": 32,
   "metadata": {},
   "outputs": [
    {
     "data": {
      "text/plain": [
       "(7424, 84)"
      ]
     },
     "execution_count": 32,
     "metadata": {},
     "output_type": "execute_result"
    }
   ],
   "source": [
    "df = pd.merge(df, OGTT_df[['SEQN', 'OGTT_Class']], on='SEQN', how='left')\n",
    "df.shape"
   ]
  },
  {
   "cell_type": "markdown",
   "metadata": {},
   "source": [
    "## Only keep the columns need to use"
   ]
  },
  {
   "cell_type": "code",
   "execution_count": 33,
   "metadata": {},
   "outputs": [
    {
     "data": {
      "text/plain": [
       "Index(['SEQN', 'DMARETHN', 'HSSEX', 'HSAGEIR', 'HFA8R', 'HFF18', 'HAC5A3',\n",
       "       'HAC5A4', 'HAD1', 'HAD5R', 'HAD6', 'HAR1', 'HAT1S', 'HAT1MET', 'HAT2',\n",
       "       'HAT2MET', 'HAT3S', 'HAT4', 'HAT4MET', 'HAT5S', 'HAT6', 'HAT6MET',\n",
       "       'HAT7S', 'HAT8', 'HAT8MET', 'HAT9S', 'HAT10', 'HAT10MET', 'HAT11S',\n",
       "       'HAT12', 'HAT12MET', 'HAT13S', 'HAT14', 'HAT14MET', 'HAT15S', 'HAT16',\n",
       "       'HAT16MET', 'HAT17S', 'HAT18', 'HAT19CD', 'HAT19MET', 'HAT20S',\n",
       "       'HAT21CD', 'HAT21MET', 'HAT22S', 'HAT23CD', 'HAT23MET', 'HAT24S',\n",
       "       'HAT25CD', 'HAT25MET', 'HAT26S', 'WTPFEX6', 'BMPWT', 'BMPBMI', 'BMPHT',\n",
       "       'BMPSITHT', 'PEPPREG', 'PEPPACE', 'PEP12A1', 'MAPF12', 'MAPF12R',\n",
       "       'HXPH2', 'HSSEX3', 'HSAGEIR3', 'G1P', 'G1PSI', 'G1PCODE', 'G1PTIM1',\n",
       "       'G1PTIM2', 'G2PSI', 'I1P', 'I1PSI', 'HSSEX2', 'HSAGEIR2',\n",
       "       'parental_diabetes', 'education', 'Vigorous_Activity_Count',\n",
       "       'Moderate_Activity_Count', 'Activity_Level', 'leg_length',\n",
       "       'leg_length_ratio', '%BF', 'HOMA2_IR', 'OGTT_Class'],\n",
       "      dtype='object')"
      ]
     },
     "execution_count": 33,
     "metadata": {},
     "output_type": "execute_result"
    }
   ],
   "source": [
    "df.columns"
   ]
  },
  {
   "cell_type": "code",
   "execution_count": 34,
   "metadata": {},
   "outputs": [],
   "source": [
    "# keep ['SEQN', 'DMARETHN', 'HSSEX', 'HSAGEIR', 'education', 'HFF18', 'parental_diabetes', \n",
    "#        'HAD1', 'HAD5R', 'HAD6', 'HAR1', 'BMPWT', 'BMPHT', 'BMPSITHT','WTPFEX6'\n",
    "#       'PEPPREG', 'PEPPACE', 'PEP12A1', 'MAPF12R', 'HXPH2', 'G1PSI', 'G1PCODE', 'G1PTIM1', 'G1PTIM2', 'G2PSI',\n",
    "#        'I1PSI', 'Activity_Level', 'leg_length', 'leg_length_ratio', '%BF', 'HOMA2_IR', 'OGTT_Class']\n",
    "# drop other columns\n",
    "tmp_df = df[['SEQN', 'DMARETHN', 'HSSEX', 'HSAGEIR', 'education', 'HFF18', 'parental_diabetes', \n",
    "        'HAD1', 'HAD5R', 'HAD6', 'HAR1', 'BMPWT', 'BMPHT', 'BMPSITHT', 'WTPFEX6',\n",
    "       'PEPPREG', 'PEPPACE', 'PEP12A1', 'MAPF12R', 'HXPH2', 'G1PSI', 'G1PCODE', 'G1PTIM1', 'G1PTIM2', 'G2PSI',\n",
    "        'I1PSI', 'Activity_Level', 'leg_length', 'leg_length_ratio', '%BF', 'HOMA2_IR', 'OGTT_Class']]\n"
   ]
  },
  {
   "cell_type": "markdown",
   "metadata": {},
   "source": [
    "## Clean the data"
   ]
  },
  {
   "cell_type": "markdown",
   "metadata": {},
   "source": [
    "### Height (BMPHT)\n",
    "BMPHT = 88888\n",
    "\n"
   ]
  },
  {
   "cell_type": "code",
   "execution_count": 35,
   "metadata": {},
   "outputs": [
    {
     "data": {
      "text/plain": [
       "(7424, 84)"
      ]
     },
     "execution_count": 35,
     "metadata": {},
     "output_type": "execute_result"
    }
   ],
   "source": [
    "df.shape"
   ]
  },
  {
   "cell_type": "code",
   "execution_count": 36,
   "metadata": {},
   "outputs": [
    {
     "data": {
      "text/plain": [
       "(7408, 84)"
      ]
     },
     "execution_count": 36,
     "metadata": {},
     "output_type": "execute_result"
    }
   ],
   "source": [
    "# drop the columns which \"BMPHT\" is 88888\n",
    "df = df[df['BMPHT'] != 88888]\n",
    "df.shape"
   ]
  },
  {
   "cell_type": "markdown",
   "metadata": {},
   "source": [
    "### Weight (BMPWT)\n",
    "BMPWT = 88888\n"
   ]
  },
  {
   "cell_type": "code",
   "execution_count": 37,
   "metadata": {},
   "outputs": [
    {
     "data": {
      "text/plain": [
       "(7398, 84)"
      ]
     },
     "execution_count": 37,
     "metadata": {},
     "output_type": "execute_result"
    }
   ],
   "source": [
    "# drop the columns which \"BMPWT\" is 888888\n",
    "df = df[df['BMPWT'] != 888888]\n",
    "df.shape"
   ]
  },
  {
   "cell_type": "markdown",
   "metadata": {},
   "source": [
    "### Sitting Height (BMPSITHT)\n",
    "BMPSITHT = 888888\n"
   ]
  },
  {
   "cell_type": "code",
   "execution_count": 38,
   "metadata": {},
   "outputs": [
    {
     "data": {
      "text/plain": [
       "(7226, 84)"
      ]
     },
     "execution_count": 38,
     "metadata": {},
     "output_type": "execute_result"
    }
   ],
   "source": [
    "# drop the columns which \"BMPSITHT\" is 888888\n",
    "df = df[df['BMPSITHT'] != 88888]\n",
    "df.shape"
   ]
  },
  {
   "cell_type": "code",
   "execution_count": 39,
   "metadata": {},
   "outputs": [
    {
     "data": {
      "text/plain": [
       "0"
      ]
     },
     "execution_count": 39,
     "metadata": {},
     "output_type": "execute_result"
    }
   ],
   "source": [
    "df['BMPWT'].isnull().sum()"
   ]
  },
  {
   "cell_type": "code",
   "execution_count": 40,
   "metadata": {},
   "outputs": [
    {
     "data": {
      "text/plain": [
       "132"
      ]
     },
     "execution_count": 40,
     "metadata": {},
     "output_type": "execute_result"
    }
   ],
   "source": [
    "df['BMPSITHT'].isnull().sum()"
   ]
  },
  {
   "cell_type": "code",
   "execution_count": 41,
   "metadata": {},
   "outputs": [
    {
     "data": {
      "text/plain": [
       "(7094, 84)"
      ]
     },
     "execution_count": 41,
     "metadata": {},
     "output_type": "execute_result"
    }
   ],
   "source": [
    "# drop the columns which df['BMPSITHT'].isnull()\n",
    "df = df[df['BMPSITHT'].notnull()]\n",
    "df.shape"
   ]
  },
  {
   "cell_type": "markdown",
   "metadata": {},
   "source": [
    "leg_length, leg_length_ratio don't have null value."
   ]
  },
  {
   "cell_type": "code",
   "execution_count": 42,
   "metadata": {},
   "outputs": [
    {
     "data": {
      "text/plain": [
       "Index(['SEQN', 'DMARETHN', 'HSSEX', 'HSAGEIR', 'education', 'income',\n",
       "       'parental_diabetes', 'diabetes', 'diabetes_age', 'HAD6', 'smoke',\n",
       "       'Weight_kg', 'Height', 'BMPSITHT', 'Weighted', 'PEPPREG', 'PEPPACE',\n",
       "       'BIA_resistance', 'pregancy', 'menstrual_cycles', 'G1PSI', 'G1PCODE',\n",
       "       'G1PTIM1', 'G1PTIM2', 'G2PSI', 'I1PSI', 'Activity_Level', 'leg_length',\n",
       "       'leg_length_ratio', '%BF', 'HOMA2_IR', 'OGTT_Class'],\n",
       "      dtype='object')"
      ]
     },
     "execution_count": 42,
     "metadata": {},
     "output_type": "execute_result"
    }
   ],
   "source": [
    "# rename columns\n",
    "tmp_df.rename(columns={'HFF18': 'income', 'HAD1' :'diabetes', 'HAD5R': 'diabetes_age', 'HAR1': 'smoke', \n",
    "                   'BMPWT': 'Weight_kg', 'BMPHT':'Height', 'WTPFEX6':'Weighted', 'MAPF12R':'pregancy',\n",
    "                   'HXPH2': 'menstrual_cycles', 'PEP12A1': 'BIA_resistance'}, inplace = True)\n",
    "tmp_df.columns"
   ]
  },
  {
   "cell_type": "markdown",
   "metadata": {},
   "source": [
    "## Count Weight"
   ]
  },
  {
   "cell_type": "code",
   "execution_count": 43,
   "metadata": {},
   "outputs": [
    {
     "data": {
      "text/plain": [
       "(206.5527441773961,\n",
       " 1836.70729473813,\n",
       " -1469.3384712745285,\n",
       " 11627.326056570857,\n",
       " -8.812949899026352,\n",
       " 69.87530754201686)"
      ]
     },
     "execution_count": 43,
     "metadata": {},
     "output_type": "execute_result"
    }
   ],
   "source": [
    "# count weighted mean of ['Height',  'leg_length', 'leg_length_ratio']\n",
    "# 'WXPFEX6' is the weight of each subject\n",
    "# weighted mean = sum(weight * value) / sum(weight)\n",
    "# 'Height', 'leg_length', 'leg_length_ratio'\n",
    "# 'Height_weighted' = 'Height' * 'Weighted'\n",
    "# 'leg_length_weighted' = 'leg_length' * 'Weighted'\n",
    "# 'leg_length_ratio_weighted' = 'leg_length_ratio' * 'Weighted'\n",
    "# 'Height_weighted_mean' = sum('Height_weighted') / sum('Weighted')\n",
    "# 'leg_length_weighted_mean' = sum('leg_length_weighted') / sum('Weighted')\n",
    "# 'leg_length_ratio_weighted_mean' = sum('leg_length_ratio_weighted') / sum('Weighted')\n",
    "df = tmp_df\n",
    "df['Height_weighted'] = df['Height'] * df['Weighted']\n",
    "df['leg_length_weighted'] = df['leg_length'] * df['Weighted']\n",
    "df['leg_length_ratio_weighted'] = df['leg_length_ratio'] * df['Weighted']\n",
    "Height_weighted_mean = df['Height_weighted'].sum() / df['Weighted'].sum()\n",
    "leg_length_weighted_mean = df['leg_length_weighted'].sum() / df['Weighted'].sum()\n",
    "leg_length_ratio_weighted_mean = df['leg_length_ratio_weighted'].sum() / df['Weighted'].sum()\n",
    "# weighted standard deviation\n",
    "# sqrt(sum(weight * (value - mean)^2) / (((N-1)/N) * sum(weight)))\n",
    "# 'Height_weighted_std' = sqrt(sum('Weighted' * ('BMPHT' - 'Height_weighted_mean')^2) / (((N-1)/N) * sum('Weighted')))\n",
    "# 'leg_length_weighted_std' = sqrt(sum('Weighted' * ('leg_length' - 'leg_length_weighted_mean')^2) / (((N-1)/N) * sum('Weighted')))\n",
    "# 'leg_length_ratio_weighted_std' = sqrt(sum('Weighted' * ('leg_length_ratio' - 'leg_length_ratio_weighted_mean')^2) / (((N-1)/N) * sum('Weighted')))\n",
    "Height_weighted_std = np.sqrt((df['Weighted'] * (df['Height'] - Height_weighted_mean)**2).sum() / (((df.shape[0]-1)/df.shape[0]) * df['Weighted'].sum()))\n",
    "leg_length_weighted_std = np.sqrt((df['Weighted'] * (df['leg_length'] - leg_length_weighted_mean)**2).sum() / (((df.shape[0]-1)/df.shape[0]) * df['Weighted'].sum()))\n",
    "leg_length_ratio_weighted_std = np.sqrt((df['Weighted'] * (df['leg_length_ratio'] - leg_length_ratio_weighted_mean)**2).sum() / (((df.shape[0]-1)/df.shape[0]) * df['Weighted'].sum()))\n",
    "Height_weighted_mean, Height_weighted_std, leg_length_weighted_mean, leg_length_weighted_std, leg_length_ratio_weighted_mean, leg_length_ratio_weighted_std\n"
   ]
  },
  {
   "cell_type": "code",
   "execution_count": 44,
   "metadata": {},
   "outputs": [],
   "source": [
    "# calculate z-score of 'BMPHT', 'leg_length', 'leg_length_ratio'\n",
    "# 'BMPHT_zscore' = ('BMPHT' - 'Height_weighted_mean') / 'Height_weighted_std'\n",
    "# 'leg_length_zscore' = ('leg_length' - 'leg_length_weighted_mean') / 'leg_length_weighted_std'\n",
    "# 'leg_length_ratio_zscore' = ('leg_length_ratio' - 'leg_length_ratio_weighted_mean') / 'leg_length_ratio_weighted_std'\n",
    "df['BMPHT_zscore'] = (df['Height'] - Height_weighted_mean) / Height_weighted_std\n",
    "df['leg_length_zscore'] = (df['leg_length'] - leg_length_weighted_mean) / leg_length_weighted_std\n",
    "df['leg_length_ratio_zscore'] = (df['leg_length_ratio'] - leg_length_ratio_weighted_mean) / leg_length_ratio_weighted_std"
   ]
  },
  {
   "cell_type": "code",
   "execution_count": 45,
   "metadata": {},
   "outputs": [
    {
     "data": {
      "text/html": [
       "<div>\n",
       "<style scoped>\n",
       "    .dataframe tbody tr th:only-of-type {\n",
       "        vertical-align: middle;\n",
       "    }\n",
       "\n",
       "    .dataframe tbody tr th {\n",
       "        vertical-align: top;\n",
       "    }\n",
       "\n",
       "    .dataframe thead th {\n",
       "        text-align: right;\n",
       "    }\n",
       "</style>\n",
       "<table border=\"1\" class=\"dataframe\">\n",
       "  <thead>\n",
       "    <tr style=\"text-align: right;\">\n",
       "      <th></th>\n",
       "      <th>SEQN</th>\n",
       "      <th>DMARETHN</th>\n",
       "      <th>HSSEX</th>\n",
       "      <th>HSAGEIR</th>\n",
       "      <th>education</th>\n",
       "      <th>income</th>\n",
       "      <th>parental_diabetes</th>\n",
       "      <th>diabetes</th>\n",
       "      <th>diabetes_age</th>\n",
       "      <th>HAD6</th>\n",
       "      <th>...</th>\n",
       "      <th>%BF</th>\n",
       "      <th>HOMA2_IR</th>\n",
       "      <th>OGTT_Class</th>\n",
       "      <th>Height_weighted</th>\n",
       "      <th>leg_length_weighted</th>\n",
       "      <th>leg_length_ratio_weighted</th>\n",
       "      <th>BMPHT_zscore</th>\n",
       "      <th>leg_length_zscore</th>\n",
       "      <th>leg_length_ratio_zscore</th>\n",
       "      <th>BF</th>\n",
       "    </tr>\n",
       "  </thead>\n",
       "  <tbody>\n",
       "    <tr>\n",
       "      <th>0</th>\n",
       "      <td>9</td>\n",
       "      <td>1</td>\n",
       "      <td>2</td>\n",
       "      <td>48</td>\n",
       "      <td>1</td>\n",
       "      <td>2</td>\n",
       "      <td>1</td>\n",
       "      <td>2</td>\n",
       "      <td>NaN</td>\n",
       "      <td>NaN</td>\n",
       "      <td>...</td>\n",
       "      <td>0.360606</td>\n",
       "      <td>1.272265</td>\n",
       "      <td>I</td>\n",
       "      <td>3062901.384</td>\n",
       "      <td>1405537.920</td>\n",
       "      <td>8958.176673</td>\n",
       "      <td>-0.027034</td>\n",
       "      <td>0.132562</td>\n",
       "      <td>0.132691</td>\n",
       "      <td>36.060646</td>\n",
       "    </tr>\n",
       "    <tr>\n",
       "      <th>1</th>\n",
       "      <td>19</td>\n",
       "      <td>2</td>\n",
       "      <td>1</td>\n",
       "      <td>44</td>\n",
       "      <td>1</td>\n",
       "      <td>1</td>\n",
       "      <td>0</td>\n",
       "      <td>2</td>\n",
       "      <td>NaN</td>\n",
       "      <td>NaN</td>\n",
       "      <td>...</td>\n",
       "      <td>0.261954</td>\n",
       "      <td>2.032520</td>\n",
       "      <td>N</td>\n",
       "      <td>687663.874</td>\n",
       "      <td>324355.198</td>\n",
       "      <td>1819.154223</td>\n",
       "      <td>-0.015382</td>\n",
       "      <td>0.133602</td>\n",
       "      <td>0.132874</td>\n",
       "      <td>26.195401</td>\n",
       "    </tr>\n",
       "    <tr>\n",
       "      <th>2</th>\n",
       "      <td>34</td>\n",
       "      <td>2</td>\n",
       "      <td>2</td>\n",
       "      <td>42</td>\n",
       "      <td>0</td>\n",
       "      <td>2</td>\n",
       "      <td>0</td>\n",
       "      <td>2</td>\n",
       "      <td>NaN</td>\n",
       "      <td>NaN</td>\n",
       "      <td>...</td>\n",
       "      <td>0.333593</td>\n",
       "      <td>1.127396</td>\n",
       "      <td>N</td>\n",
       "      <td>802182.030</td>\n",
       "      <td>388982.607</td>\n",
       "      <td>2446.431491</td>\n",
       "      <td>-0.025890</td>\n",
       "      <td>0.133000</td>\n",
       "      <td>0.133064</td>\n",
       "      <td>33.359285</td>\n",
       "    </tr>\n",
       "    <tr>\n",
       "      <th>3</th>\n",
       "      <td>45</td>\n",
       "      <td>2</td>\n",
       "      <td>2</td>\n",
       "      <td>67</td>\n",
       "      <td>1</td>\n",
       "      <td>1</td>\n",
       "      <td>0</td>\n",
       "      <td>2</td>\n",
       "      <td>NaN</td>\n",
       "      <td>NaN</td>\n",
       "      <td>...</td>\n",
       "      <td>NaN</td>\n",
       "      <td>NaN</td>\n",
       "      <td>NaN</td>\n",
       "      <td>0.000</td>\n",
       "      <td>NaN</td>\n",
       "      <td>NaN</td>\n",
       "      <td>-0.023495</td>\n",
       "      <td>NaN</td>\n",
       "      <td>NaN</td>\n",
       "      <td>NaN</td>\n",
       "    </tr>\n",
       "    <tr>\n",
       "      <th>4</th>\n",
       "      <td>48</td>\n",
       "      <td>1</td>\n",
       "      <td>2</td>\n",
       "      <td>56</td>\n",
       "      <td>0</td>\n",
       "      <td>2</td>\n",
       "      <td>0</td>\n",
       "      <td>2</td>\n",
       "      <td>NaN</td>\n",
       "      <td>NaN</td>\n",
       "      <td>...</td>\n",
       "      <td>0.448423</td>\n",
       "      <td>0.873362</td>\n",
       "      <td>NaN</td>\n",
       "      <td>4677452.208</td>\n",
       "      <td>2147920.944</td>\n",
       "      <td>12517.021818</td>\n",
       "      <td>-0.019030</td>\n",
       "      <td>0.133147</td>\n",
       "      <td>0.132696</td>\n",
       "      <td>44.842280</td>\n",
       "    </tr>\n",
       "  </tbody>\n",
       "</table>\n",
       "<p>5 rows × 39 columns</p>\n",
       "</div>"
      ],
      "text/plain": [
       "   SEQN  DMARETHN  HSSEX  HSAGEIR  education  income  parental_diabetes  \\\n",
       "0     9         1      2       48          1       2                  1   \n",
       "1    19         2      1       44          1       1                  0   \n",
       "2    34         2      2       42          0       2                  0   \n",
       "3    45         2      2       67          1       1                  0   \n",
       "4    48         1      2       56          0       2                  0   \n",
       "\n",
       "   diabetes  diabetes_age  HAD6  ...       %BF  HOMA2_IR  OGTT_Class  \\\n",
       "0         2           NaN   NaN  ...  0.360606  1.272265           I   \n",
       "1         2           NaN   NaN  ...  0.261954  2.032520           N   \n",
       "2         2           NaN   NaN  ...  0.333593  1.127396           N   \n",
       "3         2           NaN   NaN  ...       NaN       NaN         NaN   \n",
       "4         2           NaN   NaN  ...  0.448423  0.873362         NaN   \n",
       "\n",
       "   Height_weighted  leg_length_weighted  leg_length_ratio_weighted  \\\n",
       "0      3062901.384          1405537.920                8958.176673   \n",
       "1       687663.874           324355.198                1819.154223   \n",
       "2       802182.030           388982.607                2446.431491   \n",
       "3            0.000                  NaN                        NaN   \n",
       "4      4677452.208          2147920.944               12517.021818   \n",
       "\n",
       "   BMPHT_zscore  leg_length_zscore  leg_length_ratio_zscore         BF  \n",
       "0     -0.027034           0.132562                 0.132691  36.060646  \n",
       "1     -0.015382           0.133602                 0.132874  26.195401  \n",
       "2     -0.025890           0.133000                 0.133064  33.359285  \n",
       "3     -0.023495                NaN                      NaN        NaN  \n",
       "4     -0.019030           0.133147                 0.132696  44.842280  \n",
       "\n",
       "[5 rows x 39 columns]"
      ]
     },
     "execution_count": 45,
     "metadata": {},
     "output_type": "execute_result"
    }
   ],
   "source": [
    "df[\"BF\"] = df[\"%BF\"]*100\n",
    "df.head()"
   ]
  },
  {
   "cell_type": "code",
   "execution_count": 46,
   "metadata": {},
   "outputs": [
    {
     "data": {
      "text/plain": [
       "menstrual_cycles\n",
       "13.0    26\n",
       "12.0    12\n",
       "11.0    10\n",
       "14.0     8\n",
       "15.0     8\n",
       "10.0     4\n",
       "99.0     4\n",
       "18.0     3\n",
       "17.0     3\n",
       "16.0     2\n",
       "88.0     1\n",
       "9.0      1\n",
       "Name: count, dtype: int64"
      ]
     },
     "execution_count": 46,
     "metadata": {},
     "output_type": "execute_result"
    }
   ],
   "source": [
    "df[\"menstrual_cycles\"].value_counts()"
   ]
  },
  {
   "cell_type": "code",
   "execution_count": 47,
   "metadata": {},
   "outputs": [],
   "source": [
    "df.to_csv(\"diabete.csv\", index=False)"
   ]
  },
  {
   "cell_type": "markdown",
   "metadata": {},
   "source": [
    "## End"
   ]
  }
 ],
 "metadata": {
  "kernelspec": {
   "display_name": "Python 3",
   "language": "python",
   "name": "python3"
  },
  "language_info": {
   "codemirror_mode": {
    "name": "ipython",
    "version": 3
   },
   "file_extension": ".py",
   "mimetype": "text/x-python",
   "name": "python",
   "nbconvert_exporter": "python",
   "pygments_lexer": "ipython3",
   "version": "3.11.5"
  }
 },
 "nbformat": 4,
 "nbformat_minor": 2
}
